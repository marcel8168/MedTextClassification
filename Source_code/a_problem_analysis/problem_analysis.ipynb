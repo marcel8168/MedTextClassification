{
 "cells": [
  {
   "cell_type": "markdown",
   "metadata": {},
   "source": [
    "# General problem analysis"
   ]
  },
  {
   "cell_type": "code",
   "execution_count": null,
   "metadata": {},
   "outputs": [],
   "source": [
    "from Source_code.z_utils.data_preprocessing import xml_to_df\n",
    "import os\n",
    "\n",
    "# Extract data from XML and create a DataFrame\n",
    "xml_files = []\n",
    "data_path = \"../b_dataset_generation/data/\"\n",
    "results_folders = [\"human_medical_data/\", \"veterinary_medical_data/\"]\n",
    "for folder in results_folders:\n",
    "    files = [data_path + folder + file for file in os.listdir(data_path + folder)]\n",
    "    xml_files.append(files)\n",
    "\n",
    "hum_df, vet_df = xml_to_df(xml_files)"
   ]
  },
  {
   "cell_type": "code",
   "execution_count": null,
   "metadata": {},
   "outputs": [],
   "source": [
    "hum_df.head()"
   ]
  },
  {
   "cell_type": "code",
   "execution_count": null,
   "metadata": {},
   "outputs": [],
   "source": [
    "vet_df.head()"
   ]
  },
  {
   "cell_type": "code",
   "execution_count": null,
   "metadata": {},
   "outputs": [],
   "source": [
    "import pandas as pd\n",
    "import matplotlib.pyplot as plt\n",
    "\n",
    "\n",
    "hum_exploded_df = hum_df.explode(\"text_types\")\n",
    "vet_exploded_df = vet_df.explode(\"text_types\")\n",
    "\n",
    "hum_text_type_counts = hum_exploded_df['text_types'].value_counts()\n",
    "vet_text_type_counts = vet_exploded_df['text_types'].value_counts()\n",
    "\n",
    "hum_text_type_counts_aligned, vet_text_type_counts_aligned = hum_text_type_counts.align(vet_text_type_counts, join='outer', fill_value=0)\n",
    "hum_text_type_counts_aligned = hum_text_type_counts_aligned.sort_values(ascending=False)\n",
    "hum_text_type_counts_aligned /= hum_text_type_counts_aligned[1:].sum()\n",
    "vet_text_type_counts_aligned = vet_text_type_counts_aligned.sort_values(ascending=False)\n",
    "vet_text_type_counts_aligned /= vet_text_type_counts_aligned[1:].sum()\n",
    "text_type_counts_aligned = pd.concat([hum_text_type_counts_aligned, \n",
    "                                      vet_text_type_counts_aligned], \n",
    "                                     keys=[\"Human Medicine\", \"Veterinary Medicine\"], \n",
    "                                     axis=1)\n",
    "\n",
    "text_type_rates = text_type_counts_aligned\n",
    "\n",
    "research_support_row = pd.DataFrame({\n",
    "    \"Human Medicine\": [text_type_rates[\"Human Medicine\"][text_type_rates[\"Human Medicine\"].index.str.contains(\"research support\", case=False)].sum()],\n",
    "    \"Veterinary Medicine\": [text_type_rates[\"Veterinary Medicine\"][text_type_rates[\"Veterinary Medicine\"].index.str.contains(\"research support\", case=False)].sum()]\n",
    "}, index=[\"Research Support\"])\n",
    "\n",
    "hum_idx = text_type_rates[\"Human Medicine\"].index.str.contains(\"study|trial\", case=False)\n",
    "vet_idx = text_type_rates[\"Veterinary Medicine\"].index.str.contains(\"study|trial\", case=False)\n",
    "studies_trials_row = pd.DataFrame({\n",
    "    \"Human Medicine\": [text_type_rates[\"Human Medicine\"][hum_idx].sum()],\n",
    "    \"Veterinary Medicine\": [text_type_rates[\"Veterinary Medicine\"][vet_idx].sum()]\n",
    "}, index=[\"Studies and Trials\"])\n",
    "\n",
    "review_row = pd.DataFrame({\n",
    "    \"Human Medicine\": [text_type_rates[\"Human Medicine\"][text_type_rates[\"Human Medicine\"].index.str.contains(\"review\", case=False)].sum()],\n",
    "    \"Veterinary Medicine\": [text_type_rates[\"Veterinary Medicine\"][text_type_rates[\"Veterinary Medicine\"].index.str.contains(\"review\", case=False)].sum()]\n",
    "}, index=[\"Reviews\"])\n",
    "\n",
    "hum_idx = ~text_type_rates[\"Human Medicine\"].index.str.contains(\"journal article|case reports|study|trial|research support|review\", case=False)\n",
    "vet_idx = ~text_type_rates[\"Veterinary Medicine\"].index.str.contains(\"journal article|case reports|study|trial|research support|review\", case=False)\n",
    "others_row = pd.DataFrame({\n",
    "    \"Human Medicine\": [text_type_rates[\"Human Medicine\"][hum_idx].sum()],\n",
    "    \"Veterinary Medicine\": [text_type_rates[\"Veterinary Medicine\"][vet_idx].sum()]\n",
    "}, index=[\"Others\"])\n",
    "\n",
    "reformatted_df = pd.concat([text_type_rates[1:2], research_support_row, studies_trials_row, review_row, others_row])\n",
    "reformatted_df.plot(kind='bar', position=0, width=0.4, figsize=(12, 4))\n",
    "\n",
    "plt.xlabel('Article Type')\n",
    "plt.xticks(rotation=0, ha='center')\n",
    "plt.ylabel('Relative Frequency')\n",
    "plt.legend()\n",
    "plt.savefig('relative_frequency_article_types.pdf', format=\"pdf\", bbox_inches=\"tight\")\n",
    "plt.title('Relative Frequency of Article Types')\n",
    "plt.show()\n",
    "plt.close()"
   ]
  },
  {
   "cell_type": "markdown",
   "metadata": {},
   "source": [
    "### Character counts"
   ]
  },
  {
   "cell_type": "code",
   "execution_count": null,
   "metadata": {},
   "outputs": [],
   "source": [
    "df = pd.concat([hum_df, vet_df])\n",
    "\n",
    "df_exploded = df.explode(\"text_types\")\n",
    "jour_articles_df = df_exploded[df_exploded[\"text_types\"] == \"Journal Article\"]\n",
    "case_rep_df = df_exploded[df_exploded[\"text_types\"] == \"Case Reports\"]"
   ]
  },
  {
   "cell_type": "code",
   "execution_count": null,
   "metadata": {},
   "outputs": [],
   "source": [
    "import re\n",
    "\n",
    "\n",
    "avg_title = jour_articles_df[\"title\"].str.len().mean()\n",
    "print(f\"Average title character count of all journal articles: {avg_title}\")\n",
    "res_sum = 0\n",
    "for text in jour_articles_df[\"title\"]:\n",
    "    res_sum += len(re.findall(r'\\w+', text))\n",
    "print(f\"Average title word count of all journal articles: {res_sum/len(jour_articles_df.title)}\")\n",
    "\n",
    "avg_abstract = jour_articles_df[\"abstract\"].str.len().mean()\n",
    "print(f\"Average abstract length of all journal articles: {avg_abstract}\")\n",
    "res_sum = 0\n",
    "for text in jour_articles_df[\"abstract\"]:\n",
    "    res_sum += len(re.findall(r'\\w+', text))\n",
    "print(f\"Average abstract word count of all journal articles: {res_sum/len(jour_articles_df.abstract)}\")\n",
    "\n",
    "abstract_title = jour_articles_df[[\"title\", \"abstract\"]].apply(lambda row: ' '.join(row.values.astype(str)), axis=1)\n",
    "avg_abstract_title = abstract_title.str.len().mean()\n",
    "print(f\"Average abstract+title length of all journal articles: {avg_abstract_title}\")\n",
    "res_sum = 0\n",
    "for text in abstract_title:\n",
    "    res_sum += len(re.findall(r'\\w+', text))\n",
    "print(f\"Average abstract+title word count of all journal articles: {res_sum/len(abstract_title)}\")"
   ]
  },
  {
   "cell_type": "code",
   "execution_count": null,
   "metadata": {},
   "outputs": [],
   "source": [
    "avg_title = case_rep_df[\"title\"].str.len().mean()\n",
    "print(f\"Average title character count of all case reports: {avg_title}\")\n",
    "res_sum = 0\n",
    "for text in case_rep_df[\"title\"]:\n",
    "    res_sum += len(re.findall(r'\\w+', text))\n",
    "print(f\"Average title word count of all case reports: {res_sum/len(case_rep_df.title)}\")\n",
    "\n",
    "avg_abstract = case_rep_df[\"abstract\"].str.len().mean()\n",
    "print(f\"Average title character count of all case reports: {avg_abstract}\")\n",
    "res_sum = 0\n",
    "for text in case_rep_df[\"abstract\"]:\n",
    "    res_sum += len(re.findall(r'\\w+', text))\n",
    "print(f\"Average abstract word count of all case reports: {res_sum/len(case_rep_df.abstract)}\")\n",
    "\n",
    "abstract_title = case_rep_df[[\"title\", \"abstract\"]].apply(lambda row: ' '.join(row.values.astype(str)), axis=1)\n",
    "avg_abstract_title = abstract_title.str.len().mean()\n",
    "print(f\"Average abstract+title character count of all case reports: {avg_abstract_title}\")\n",
    "res_sum = 0\n",
    "for text in abstract_title:\n",
    "    res_sum += len(re.findall(r'\\w+', text))\n",
    "print(f\"Average abstract+title word count of all case reports: {res_sum/len(abstract_title)}\")"
   ]
  },
  {
   "cell_type": "code",
   "execution_count": null,
   "metadata": {},
   "outputs": [],
   "source": [
    "avg_title = df[\"title\"].str.len().mean()\n",
    "print(f\"Average title character count of all text types: {avg_title}\")\n",
    "res_sum = 0\n",
    "for text in df[\"title\"]:\n",
    "    res_sum += len(re.findall(r'\\w+', text))\n",
    "print(f\"Average title word count of all text types: {res_sum/len(df.title)}\")\n",
    "\n",
    "avg_abstract = df[\"abstract\"].str.len().mean()\n",
    "print(f\"Average abstract character count of all text types: {avg_abstract}\")\n",
    "res_sum = 0\n",
    "for text in df[\"abstract\"]:\n",
    "    res_sum += len(re.findall(r'\\w+', text))\n",
    "print(f\"Average abstract word count of all text types: {res_sum/len(df.abstract)}\")\n",
    "\n",
    "abstract_title = df[[\"title\", \"abstract\"]].apply(lambda row: ' '.join(row.values.astype(str)), axis=1)\n",
    "avg_abstract_title = abstract_title.str.len().mean()\n",
    "print(f\"Average abstract+title character count of all text types: {avg_abstract_title}\")\n",
    "res_sum = 0\n",
    "for text in abstract_title:\n",
    "    res_sum += len(re.findall(r'\\w+', text))\n",
    "print(f\"Average abstract+title word count of all text types: {res_sum/len(abstract_title)}\")"
   ]
  }
 ],
 "metadata": {
  "kernelspec": {
   "display_name": ".venv",
   "language": "python",
   "name": "python3"
  },
  "language_info": {
   "codemirror_mode": {
    "name": "ipython",
    "version": 3
   },
   "file_extension": ".py",
   "mimetype": "text/x-python",
   "name": "python",
   "nbconvert_exporter": "python",
   "pygments_lexer": "ipython3",
   "version": "3.11.6"
  }
 },
 "nbformat": 4,
 "nbformat_minor": 2
}
