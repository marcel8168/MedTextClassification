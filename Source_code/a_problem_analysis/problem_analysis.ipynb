{
 "cells": [
  {
   "cell_type": "markdown",
   "metadata": {},
   "source": [
    "# General problem analysis"
   ]
  },
  {
   "cell_type": "code",
   "execution_count": 2,
   "metadata": {},
   "outputs": [
    {
     "name": "stderr",
     "output_type": "stream",
     "text": [
      "  1%|          | 925/105930 [00:00<00:11, 9206.50it/s]"
     ]
    },
    {
     "name": "stdout",
     "output_type": "stream",
     "text": [
      "Processing medical field: human_medicine\n"
     ]
    },
    {
     "name": "stderr",
     "output_type": "stream",
     "text": [
      " 32%|███▏      | 33851/105930 [00:05<00:15, 4760.94it/s] "
     ]
    },
    {
     "name": "stdout",
     "output_type": "stream",
     "text": [
      "Processing medical field: veterinary_medicine\n"
     ]
    },
    {
     "name": "stderr",
     "output_type": "stream",
     "text": [
      "100%|██████████| 105930/105930 [00:16<00:00, 6281.72it/s]\n"
     ]
    }
   ],
   "source": [
    "from Source_code.z_utils.data_preprocessing import xml_to_df\n",
    "import os\n",
    "\n",
    "# Extract data from XML and create a DataFrame\n",
    "xml_files = []\n",
    "data_path = \"../b_dataset_generation/data/\"\n",
    "results_folders = [\"human_medical_data/\", \"veterinary_medical_data/\"]\n",
    "for folder in results_folders:\n",
    "    files = [data_path + folder + file for file in os.listdir(data_path + folder)]\n",
    "    xml_files.append(files)\n",
    "\n",
    "hum_df, vet_df = xml_to_df(xml_files)"
   ]
  },
  {
   "cell_type": "code",
   "execution_count": 7,
   "metadata": {},
   "outputs": [
    {
     "data": {
      "text/html": [
       "<div>\n",
       "<style scoped>\n",
       "    .dataframe tbody tr th:only-of-type {\n",
       "        vertical-align: middle;\n",
       "    }\n",
       "\n",
       "    .dataframe tbody tr th {\n",
       "        vertical-align: top;\n",
       "    }\n",
       "\n",
       "    .dataframe thead th {\n",
       "        text-align: right;\n",
       "    }\n",
       "</style>\n",
       "<table border=\"1\" class=\"dataframe\">\n",
       "  <thead>\n",
       "    <tr style=\"text-align: right;\">\n",
       "      <th></th>\n",
       "      <th>pmid</th>\n",
       "      <th>text_types</th>\n",
       "      <th>title</th>\n",
       "      <th>abstract</th>\n",
       "      <th>meshtermlist</th>\n",
       "      <th>labels</th>\n",
       "    </tr>\n",
       "  </thead>\n",
       "  <tbody>\n",
       "    <tr>\n",
       "      <th>0</th>\n",
       "      <td>21686333</td>\n",
       "      <td>[Journal Article]</td>\n",
       "      <td>acute vomiting and mental status changes: a ca...</td>\n",
       "      <td>in this article, we describe a 5- year-old gir...</td>\n",
       "      <td>[]</td>\n",
       "      <td>0</td>\n",
       "    </tr>\n",
       "    <tr>\n",
       "      <th>1</th>\n",
       "      <td>21686334</td>\n",
       "      <td>[Journal Article]</td>\n",
       "      <td>efficacy of low-dose topical mitomycin c treat...</td>\n",
       "      <td>primary acquired melanosis (pam) with atypical...</td>\n",
       "      <td>[]</td>\n",
       "      <td>0</td>\n",
       "    </tr>\n",
       "    <tr>\n",
       "      <th>2</th>\n",
       "      <td>21686335</td>\n",
       "      <td>[Journal Article]</td>\n",
       "      <td>incidental adrenocortical oncocytoma.</td>\n",
       "      <td>a 66-year-old man with a history of hypertensi...</td>\n",
       "      <td>[]</td>\n",
       "      <td>0</td>\n",
       "    </tr>\n",
       "    <tr>\n",
       "      <th>3</th>\n",
       "      <td>21686336</td>\n",
       "      <td>[Journal Article]</td>\n",
       "      <td>can salmonella enteritidis cause fatal necroti...</td>\n",
       "      <td>this is a presentation of a case of mono micro...</td>\n",
       "      <td>[]</td>\n",
       "      <td>0</td>\n",
       "    </tr>\n",
       "    <tr>\n",
       "      <th>4</th>\n",
       "      <td>21686337</td>\n",
       "      <td>[Journal Article]</td>\n",
       "      <td>fatality from minor cervical trauma in ankylos...</td>\n",
       "      <td>cervical injury is a serious and often fatal c...</td>\n",
       "      <td>[]</td>\n",
       "      <td>0</td>\n",
       "    </tr>\n",
       "  </tbody>\n",
       "</table>\n",
       "</div>"
      ],
      "text/plain": [
       "       pmid         text_types  \\\n",
       "0  21686333  [Journal Article]   \n",
       "1  21686334  [Journal Article]   \n",
       "2  21686335  [Journal Article]   \n",
       "3  21686336  [Journal Article]   \n",
       "4  21686337  [Journal Article]   \n",
       "\n",
       "                                               title  \\\n",
       "0  acute vomiting and mental status changes: a ca...   \n",
       "1  efficacy of low-dose topical mitomycin c treat...   \n",
       "2              incidental adrenocortical oncocytoma.   \n",
       "3  can salmonella enteritidis cause fatal necroti...   \n",
       "4  fatality from minor cervical trauma in ankylos...   \n",
       "\n",
       "                                            abstract meshtermlist  labels  \n",
       "0  in this article, we describe a 5- year-old gir...           []       0  \n",
       "1  primary acquired melanosis (pam) with atypical...           []       0  \n",
       "2  a 66-year-old man with a history of hypertensi...           []       0  \n",
       "3  this is a presentation of a case of mono micro...           []       0  \n",
       "4  cervical injury is a serious and often fatal c...           []       0  "
      ]
     },
     "execution_count": 7,
     "metadata": {},
     "output_type": "execute_result"
    }
   ],
   "source": [
    "hum_df.head()"
   ]
  },
  {
   "cell_type": "code",
   "execution_count": 5,
   "metadata": {},
   "outputs": [
    {
     "data": {
      "text/html": [
       "<div>\n",
       "<style scoped>\n",
       "    .dataframe tbody tr th:only-of-type {\n",
       "        vertical-align: middle;\n",
       "    }\n",
       "\n",
       "    .dataframe tbody tr th {\n",
       "        vertical-align: top;\n",
       "    }\n",
       "\n",
       "    .dataframe thead th {\n",
       "        text-align: right;\n",
       "    }\n",
       "</style>\n",
       "<table border=\"1\" class=\"dataframe\">\n",
       "  <thead>\n",
       "    <tr style=\"text-align: right;\">\n",
       "      <th></th>\n",
       "      <th>pmid</th>\n",
       "      <th>text_types</th>\n",
       "      <th>title</th>\n",
       "      <th>abstract</th>\n",
       "      <th>meshtermlist</th>\n",
       "      <th>labels</th>\n",
       "    </tr>\n",
       "  </thead>\n",
       "  <tbody>\n",
       "    <tr>\n",
       "      <th>0</th>\n",
       "      <td>25126422</td>\n",
       "      <td>[Journal Article]</td>\n",
       "      <td>psychogenic stress in hospitalized dogs: cross...</td>\n",
       "      <td>evidence to support the existence of health co...</td>\n",
       "      <td>[]</td>\n",
       "      <td>1</td>\n",
       "    </tr>\n",
       "    <tr>\n",
       "      <th>1</th>\n",
       "      <td>26479001</td>\n",
       "      <td>[Journal Article]</td>\n",
       "      <td>temperature and relative humidity inside trail...</td>\n",
       "      <td>the effect of bedding levels and trailer compa...</td>\n",
       "      <td>[]</td>\n",
       "      <td>1</td>\n",
       "    </tr>\n",
       "    <tr>\n",
       "      <th>2</th>\n",
       "      <td>26479002</td>\n",
       "      <td>[Journal Article]</td>\n",
       "      <td>tourists' perceptions of the free-roaming dog ...</td>\n",
       "      <td>a study was undertaken to establish how visiti...</td>\n",
       "      <td>[]</td>\n",
       "      <td>1</td>\n",
       "    </tr>\n",
       "    <tr>\n",
       "      <th>3</th>\n",
       "      <td>26479003</td>\n",
       "      <td>[Journal Article]</td>\n",
       "      <td>leptospira spp. in domestic cats from differen...</td>\n",
       "      <td>leptospirosis is an emerging zoonotic disease ...</td>\n",
       "      <td>[]</td>\n",
       "      <td>1</td>\n",
       "    </tr>\n",
       "    <tr>\n",
       "      <th>4</th>\n",
       "      <td>26479004</td>\n",
       "      <td>[Journal Article]</td>\n",
       "      <td>effect of season, transport length, deck locat...</td>\n",
       "      <td>the objective of this study was to investigate...</td>\n",
       "      <td>[]</td>\n",
       "      <td>1</td>\n",
       "    </tr>\n",
       "  </tbody>\n",
       "</table>\n",
       "</div>"
      ],
      "text/plain": [
       "       pmid         text_types  \\\n",
       "0  25126422  [Journal Article]   \n",
       "1  26479001  [Journal Article]   \n",
       "2  26479002  [Journal Article]   \n",
       "3  26479003  [Journal Article]   \n",
       "4  26479004  [Journal Article]   \n",
       "\n",
       "                                               title  \\\n",
       "0  psychogenic stress in hospitalized dogs: cross...   \n",
       "1  temperature and relative humidity inside trail...   \n",
       "2  tourists' perceptions of the free-roaming dog ...   \n",
       "3  leptospira spp. in domestic cats from differen...   \n",
       "4  effect of season, transport length, deck locat...   \n",
       "\n",
       "                                            abstract meshtermlist  labels  \n",
       "0  evidence to support the existence of health co...           []       1  \n",
       "1  the effect of bedding levels and trailer compa...           []       1  \n",
       "2  a study was undertaken to establish how visiti...           []       1  \n",
       "3  leptospirosis is an emerging zoonotic disease ...           []       1  \n",
       "4  the objective of this study was to investigate...           []       1  "
      ]
     },
     "execution_count": 5,
     "metadata": {},
     "output_type": "execute_result"
    }
   ],
   "source": [
    "vet_df.head()"
   ]
  },
  {
   "cell_type": "code",
   "execution_count": 4,
   "metadata": {},
   "outputs": [
    {
     "data": {
      "image/png": "[encoded data removed]",
      "text/plain": [
       "<Figure size 1200x400 with 1 Axes>"
      ]
     },
     "metadata": {},
     "output_type": "display_data"
    }
   ],
   "source": [
    "import pandas as pd\n",
    "import matplotlib.pyplot as plt\n",
    "\n",
    "\n",
    "hum_exploded_df = hum_df.explode(\"text_types\")\n",
    "vet_exploded_df = vet_df.explode(\"text_types\")\n",
    "\n",
    "hum_text_type_counts = hum_exploded_df['text_types'].value_counts()\n",
    "vet_text_type_counts = vet_exploded_df['text_types'].value_counts()\n",
    "\n",
    "hum_text_type_counts_aligned, vet_text_type_counts_aligned = hum_text_type_counts.align(vet_text_type_counts, join='outer', fill_value=0)\n",
    "hum_text_type_counts_aligned = hum_text_type_counts_aligned.sort_values(ascending=False)\n",
    "hum_text_type_counts_aligned /= hum_text_type_counts_aligned[1:].sum()\n",
    "vet_text_type_counts_aligned = vet_text_type_counts_aligned.sort_values(ascending=False)\n",
    "vet_text_type_counts_aligned /= vet_text_type_counts_aligned[1:].sum()\n",
    "text_type_counts_aligned = pd.concat([hum_text_type_counts_aligned, \n",
    "                                      vet_text_type_counts_aligned], \n",
    "                                     keys=[\"Human Medicine\", \"Veterinary Medicine\"], \n",
    "                                     axis=1)\n",
    "\n",
    "text_type_rates = text_type_counts_aligned\n",
    "\n",
    "research_support_row = pd.DataFrame({\n",
    "    \"Human Medicine\": [text_type_rates[\"Human Medicine\"][text_type_rates[\"Human Medicine\"].index.str.contains(\"research support\", case=False)].sum()],\n",
    "    \"Veterinary Medicine\": [text_type_rates[\"Veterinary Medicine\"][text_type_rates[\"Veterinary Medicine\"].index.str.contains(\"research support\", case=False)].sum()]\n",
    "}, index=[\"Research Support\"])\n",
    "\n",
    "hum_idx = text_type_rates[\"Human Medicine\"].index.str.contains(\"study|trial\", case=False)\n",
    "vet_idx = text_type_rates[\"Veterinary Medicine\"].index.str.contains(\"study|trial\", case=False)\n",
    "studies_trials_row = pd.DataFrame({\n",
    "    \"Human Medicine\": [text_type_rates[\"Human Medicine\"][hum_idx].sum()],\n",
    "    \"Veterinary Medicine\": [text_type_rates[\"Veterinary Medicine\"][vet_idx].sum()]\n",
    "}, index=[\"Studies and Trials\"])\n",
    "\n",
    "review_row = pd.DataFrame({\n",
    "    \"Human Medicine\": [text_type_rates[\"Human Medicine\"][text_type_rates[\"Human Medicine\"].index.str.contains(\"review\", case=False)].sum()],\n",
    "    \"Veterinary Medicine\": [text_type_rates[\"Veterinary Medicine\"][text_type_rates[\"Veterinary Medicine\"].index.str.contains(\"review\", case=False)].sum()]\n",
    "}, index=[\"Reviews\"])\n",
    "\n",
    "hum_idx = ~text_type_rates[\"Human Medicine\"].index.str.contains(\"journal article|case reports|study|trial|research support|review\", case=False)\n",
    "vet_idx = ~text_type_rates[\"Veterinary Medicine\"].index.str.contains(\"journal article|case reports|study|trial|research support|review\", case=False)\n",
    "others_row = pd.DataFrame({\n",
    "    \"Human Medicine\": [text_type_rates[\"Human Medicine\"][hum_idx].sum()],\n",
    "    \"Veterinary Medicine\": [text_type_rates[\"Veterinary Medicine\"][vet_idx].sum()]\n",
    "}, index=[\"Others\"])\n",
    "\n",
    "reformatted_df = pd.concat([text_type_rates[1:2], research_support_row, studies_trials_row, review_row, others_row])\n",
    "reformatted_df.plot(kind='bar', position=0, width=0.4, figsize=(12, 4))\n",
    "\n",
    "plt.xlabel('Article Type')\n",
    "plt.xticks(rotation=0, ha='center')\n",
    "plt.ylabel('Relative Frequency')\n",
    "plt.legend()\n",
    "plt.savefig('relative_frequency_article_types.pdf', format=\"pdf\", bbox_inches=\"tight\")\n",
    "plt.title('Relative Frequency of Article Types')\n",
    "plt.show()\n",
    "plt.close()"
   ]
  },
  {
   "cell_type": "markdown",
   "metadata": {},
   "source": [
    "### Character counts"
   ]
  },
  {
   "cell_type": "code",
   "execution_count": 5,
   "metadata": {},
   "outputs": [],
   "source": [
    "df = pd.concat([hum_df, vet_df])\n",
    "\n",
    "df_exploded = df.explode(\"text_types\")\n",
    "jour_articles_df = df_exploded[df_exploded[\"text_types\"] == \"Journal Article\"]\n",
    "case_rep_df = df_exploded[df_exploded[\"text_types\"] == \"Case Reports\"]"
   ]
  },
  {
   "cell_type": "code",
   "execution_count": 6,
   "metadata": {},
   "outputs": [
    {
     "name": "stdout",
     "output_type": "stream",
     "text": [
      "Average title character count of all journal articles: 98.49365709768841\n",
      "Average title word count of all journal articles: 13.61657251923114\n",
      "Average abstract length of all journal articles: 984.8753783570148\n",
      "Average abstract word count of all journal articles: 150.3347085928011\n",
      "Average abstract+title length of all journal articles: 1084.3690354547032\n",
      "Average abstract+title word count of all journal articles: 163.95128111203223\n"
     ]
    }
   ],
   "source": [
    "import re\n",
    "\n",
    "\n",
    "avg_title = jour_articles_df[\"title\"].str.len().mean()\n",
    "print(f\"Average title character count of all journal articles: {avg_title}\")\n",
    "res_sum = 0\n",
    "for text in jour_articles_df[\"title\"]:\n",
    "    res_sum += len(re.findall(r'\\w+', text))\n",
    "print(f\"Average title word count of all journal articles: {res_sum/len(jour_articles_df.title)}\")\n",
    "\n",
    "avg_abstract = jour_articles_df[\"abstract\"].str.len().mean()\n",
    "print(f\"Average abstract length of all journal articles: {avg_abstract}\")\n",
    "res_sum = 0\n",
    "for text in jour_articles_df[\"abstract\"]:\n",
    "    res_sum += len(re.findall(r'\\w+', text))\n",
    "print(f\"Average abstract word count of all journal articles: {res_sum/len(jour_articles_df.abstract)}\")\n",
    "\n",
    "abstract_title = jour_articles_df[[\"title\", \"abstract\"]].apply(lambda row: ' '.join(row.values.astype(str)), axis=1)\n",
    "avg_abstract_title = abstract_title.str.len().mean()\n",
    "print(f\"Average abstract+title length of all journal articles: {avg_abstract_title}\")\n",
    "res_sum = 0\n",
    "for text in abstract_title:\n",
    "    res_sum += len(re.findall(r'\\w+', text))\n",
    "print(f\"Average abstract+title word count of all journal articles: {res_sum/len(abstract_title)}\")"
   ]
  },
  {
   "cell_type": "code",
   "execution_count": 7,
   "metadata": {},
   "outputs": [
    {
     "name": "stdout",
     "output_type": "stream",
     "text": [
      "Average title character count of all case reports: 83.94746286218562\n",
      "Average title word count of all case reports: 11.429445506692161\n",
      "Average title character count of all case reports: 808.2143550522136\n",
      "Average abstract word count of all case reports: 119.41838505662598\n",
      "Average abstract+title character count of all case reports: 893.1618179143992\n",
      "Average abstract+title word count of all case reports: 130.84783056331813\n"
     ]
    }
   ],
   "source": [
    "avg_title = case_rep_df[\"title\"].str.len().mean()\n",
    "print(f\"Average title character count of all case reports: {avg_title}\")\n",
    "res_sum = 0\n",
    "for text in case_rep_df[\"title\"]:\n",
    "    res_sum += len(re.findall(r'\\w+', text))\n",
    "print(f\"Average title word count of all case reports: {res_sum/len(case_rep_df.title)}\")\n",
    "\n",
    "avg_abstract = case_rep_df[\"abstract\"].str.len().mean()\n",
    "print(f\"Average title character count of all case reports: {avg_abstract}\")\n",
    "res_sum = 0\n",
    "for text in case_rep_df[\"abstract\"]:\n",
    "    res_sum += len(re.findall(r'\\w+', text))\n",
    "print(f\"Average abstract word count of all case reports: {res_sum/len(case_rep_df.abstract)}\")\n",
    "\n",
    "abstract_title = case_rep_df[[\"title\", \"abstract\"]].apply(lambda row: ' '.join(row.values.astype(str)), axis=1)\n",
    "avg_abstract_title = abstract_title.str.len().mean()\n",
    "print(f\"Average abstract+title character count of all case reports: {avg_abstract_title}\")\n",
    "res_sum = 0\n",
    "for text in abstract_title:\n",
    "    res_sum += len(re.findall(r'\\w+', text))\n",
    "print(f\"Average abstract+title word count of all case reports: {res_sum/len(abstract_title)}\")"
   ]
  },
  {
   "cell_type": "code",
   "execution_count": 8,
   "metadata": {},
   "outputs": [
    {
     "name": "stdout",
     "output_type": "stream",
     "text": [
      "Average title character count of all text types: 98.49156990465401\n",
      "Average title word count of all text types: 13.624384027187766\n",
      "Average abstract character count of all text types: 983.669564806948\n",
      "Average abstract word count of all text types: 150.0639950910979\n",
      "Average abstract+title character count of all text types: 1083.161134711602\n",
      "Average abstract+title word count of all text types: 163.68837911828567\n"
     ]
    }
   ],
   "source": [
    "avg_title = df[\"title\"].str.len().mean()\n",
    "print(f\"Average title character count of all text types: {avg_title}\")\n",
    "res_sum = 0\n",
    "for text in df[\"title\"]:\n",
    "    res_sum += len(re.findall(r'\\w+', text))\n",
    "print(f\"Average title word count of all text types: {res_sum/len(df.title)}\")\n",
    "\n",
    "avg_abstract = df[\"abstract\"].str.len().mean()\n",
    "print(f\"Average abstract character count of all text types: {avg_abstract}\")\n",
    "res_sum = 0\n",
    "for text in df[\"abstract\"]:\n",
    "    res_sum += len(re.findall(r'\\w+', text))\n",
    "print(f\"Average abstract word count of all text types: {res_sum/len(df.abstract)}\")\n",
    "\n",
    "abstract_title = df[[\"title\", \"abstract\"]].apply(lambda row: ' '.join(row.values.astype(str)), axis=1)\n",
    "avg_abstract_title = abstract_title.str.len().mean()\n",
    "print(f\"Average abstract+title character count of all text types: {avg_abstract_title}\")\n",
    "res_sum = 0\n",
    "for text in abstract_title:\n",
    "    res_sum += len(re.findall(r'\\w+', text))\n",
    "print(f\"Average abstract+title word count of all text types: {res_sum/len(abstract_title)}\")"
   ]
  }
 ],
 "metadata": {
  "kernelspec": {
   "display_name": ".venv",
   "language": "python",
   "name": "python3"
  },
  "language_info": {
   "codemirror_mode": {
    "name": "ipython",
    "version": 3
   },
   "file_extension": ".py",
   "mimetype": "text/x-python",
   "name": "python",
   "nbconvert_exporter": "python",
   "pygments_lexer": "ipython3",
   "version": "3.11.6"
  }
 },
 "nbformat": 4,
 "nbformat_minor": 2
}
