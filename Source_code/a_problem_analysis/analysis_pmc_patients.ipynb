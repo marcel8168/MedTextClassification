{
 "cells": [
  {
   "cell_type": "markdown",
   "metadata": {},
   "source": [
    "# Analysis of the PMC-Patients Dataset\n",
    "Link to paper: https://arxiv.org/abs/2202.13876"
   ]
  },
  {
   "cell_type": "code",
   "execution_count": 1,
   "metadata": {},
   "outputs": [
    {
     "name": "stderr",
     "output_type": "stream",
     "text": [
      "c:\\Users\\albbl\\Documents\\Studium\\11_Semester\\appendix\\.venv\\Lib\\site-packages\\tqdm\\auto.py:21: TqdmWarning: IProgress not found. Please update jupyter and ipywidgets. See https://ipywidgets.readthedocs.io/en/stable/user_install.html\n",
      "  from .autonotebook import tqdm as notebook_tqdm\n"
     ]
    }
   ],
   "source": [
    "from datasets import load_dataset\n",
    "\n",
    "\n",
    "dataset = load_dataset(\"zhengyun21/PMC-Patients\", split=\"train\")"
   ]
  },
  {
   "cell_type": "code",
   "execution_count": 2,
   "metadata": {},
   "outputs": [
    {
     "name": "stdout",
     "output_type": "stream",
     "text": [
      "<class 'pandas.core.frame.DataFrame'>\n",
      "RangeIndex: 167034 entries, 0 to 167033\n",
      "Data columns (total 10 columns):\n",
      " #   Column             Non-Null Count   Dtype \n",
      "---  ------             --------------   ----- \n",
      " 0   patient_id         167034 non-null  int64 \n",
      " 1   patient_uid        167034 non-null  object\n",
      " 2   PMID               167034 non-null  int64 \n",
      " 3   file_path          167034 non-null  object\n",
      " 4   title              167034 non-null  object\n",
      " 5   patient            167034 non-null  object\n",
      " 6   age                167034 non-null  object\n",
      " 7   gender             167034 non-null  object\n",
      " 8   relevant_articles  167034 non-null  object\n",
      " 9   similar_patients   167034 non-null  object\n",
      "dtypes: int64(2), object(8)\n",
      "memory usage: 12.7+ MB\n"
     ]
    }
   ],
   "source": [
    "import pandas as pd\n",
    "\n",
    "patients_summaries = dataset.to_pandas()\n",
    "patients_summaries.info()"
   ]
  },
  {
   "cell_type": "code",
   "execution_count": 3,
   "metadata": {},
   "outputs": [
    {
     "data": {
      "text/html": [
       "<div>\n",
       "<style scoped>\n",
       "    .dataframe tbody tr th:only-of-type {\n",
       "        vertical-align: middle;\n",
       "    }\n",
       "\n",
       "    .dataframe tbody tr th {\n",
       "        vertical-align: top;\n",
       "    }\n",
       "\n",
       "    .dataframe thead th {\n",
       "        text-align: right;\n",
       "    }\n",
       "</style>\n",
       "<table border=\"1\" class=\"dataframe\">\n",
       "  <thead>\n",
       "    <tr style=\"text-align: right;\">\n",
       "      <th></th>\n",
       "      <th>patient_id</th>\n",
       "      <th>patient_uid</th>\n",
       "      <th>PMID</th>\n",
       "      <th>file_path</th>\n",
       "      <th>title</th>\n",
       "      <th>patient</th>\n",
       "      <th>age</th>\n",
       "      <th>gender</th>\n",
       "      <th>relevant_articles</th>\n",
       "      <th>similar_patients</th>\n",
       "    </tr>\n",
       "  </thead>\n",
       "  <tbody>\n",
       "    <tr>\n",
       "      <th>0</th>\n",
       "      <td>0</td>\n",
       "      <td>7665777-1</td>\n",
       "      <td>33492400</td>\n",
       "      <td>comm/PMC007xxxxxx/PMC7665777.xml</td>\n",
       "      <td>Early Physical Therapist Interventions for Pat...</td>\n",
       "      <td>This 60-year-old male was hospitalized due to ...</td>\n",
       "      <td>[[60.0, 'year']]</td>\n",
       "      <td>M</td>\n",
       "      <td>{'32320506': 1, '32293716': 1, '23219649': 1, ...</td>\n",
       "      <td>{'7665777-2': 2, '7665777-3': 2, '7665777-4': ...</td>\n",
       "    </tr>\n",
       "    <tr>\n",
       "      <th>1</th>\n",
       "      <td>1</td>\n",
       "      <td>7665777-2</td>\n",
       "      <td>33492400</td>\n",
       "      <td>comm/PMC007xxxxxx/PMC7665777.xml</td>\n",
       "      <td>Early Physical Therapist Interventions for Pat...</td>\n",
       "      <td>A 39-year-old man was hospitalized due to an i...</td>\n",
       "      <td>[[39.0, 'year']]</td>\n",
       "      <td>M</td>\n",
       "      <td>{'32320506': 1, '32293716': 1, '23219649': 1, ...</td>\n",
       "      <td>{'7665777-1': 2, '7665777-3': 2, '7665777-4': ...</td>\n",
       "    </tr>\n",
       "    <tr>\n",
       "      <th>2</th>\n",
       "      <td>2</td>\n",
       "      <td>7665777-3</td>\n",
       "      <td>33492400</td>\n",
       "      <td>comm/PMC007xxxxxx/PMC7665777.xml</td>\n",
       "      <td>Early Physical Therapist Interventions for Pat...</td>\n",
       "      <td>One week after a positive COVID-19 result this...</td>\n",
       "      <td>[[57.0, 'year']]</td>\n",
       "      <td>M</td>\n",
       "      <td>{'32320506': 1, '32293716': 1, '23219649': 1, ...</td>\n",
       "      <td>{'7665777-1': 2, '7665777-2': 2, '7665777-4': ...</td>\n",
       "    </tr>\n",
       "    <tr>\n",
       "      <th>3</th>\n",
       "      <td>3</td>\n",
       "      <td>7665777-4</td>\n",
       "      <td>33492400</td>\n",
       "      <td>comm/PMC007xxxxxx/PMC7665777.xml</td>\n",
       "      <td>Early Physical Therapist Interventions for Pat...</td>\n",
       "      <td>This 69-year-old male was admitted to the ICU ...</td>\n",
       "      <td>[[69.0, 'year']]</td>\n",
       "      <td>M</td>\n",
       "      <td>{'32320506': 1, '32293716': 1, '23219649': 1, ...</td>\n",
       "      <td>{'7665777-1': 2, '7665777-2': 2, '7665777-3': ...</td>\n",
       "    </tr>\n",
       "    <tr>\n",
       "      <th>4</th>\n",
       "      <td>4</td>\n",
       "      <td>7665777-5</td>\n",
       "      <td>33492400</td>\n",
       "      <td>comm/PMC007xxxxxx/PMC7665777.xml</td>\n",
       "      <td>Early Physical Therapist Interventions for Pat...</td>\n",
       "      <td>This 57-year-old male was admitted to the ICU ...</td>\n",
       "      <td>[[57.0, 'year']]</td>\n",
       "      <td>M</td>\n",
       "      <td>{'32320506': 1, '32293716': 1, '23219649': 1, ...</td>\n",
       "      <td>{'7665777-1': 2, '7665777-2': 2, '7665777-3': ...</td>\n",
       "    </tr>\n",
       "  </tbody>\n",
       "</table>\n",
       "</div>"
      ],
      "text/plain": [
       "   patient_id patient_uid      PMID                         file_path  \\\n",
       "0           0   7665777-1  33492400  comm/PMC007xxxxxx/PMC7665777.xml   \n",
       "1           1   7665777-2  33492400  comm/PMC007xxxxxx/PMC7665777.xml   \n",
       "2           2   7665777-3  33492400  comm/PMC007xxxxxx/PMC7665777.xml   \n",
       "3           3   7665777-4  33492400  comm/PMC007xxxxxx/PMC7665777.xml   \n",
       "4           4   7665777-5  33492400  comm/PMC007xxxxxx/PMC7665777.xml   \n",
       "\n",
       "                                               title  \\\n",
       "0  Early Physical Therapist Interventions for Pat...   \n",
       "1  Early Physical Therapist Interventions for Pat...   \n",
       "2  Early Physical Therapist Interventions for Pat...   \n",
       "3  Early Physical Therapist Interventions for Pat...   \n",
       "4  Early Physical Therapist Interventions for Pat...   \n",
       "\n",
       "                                             patient               age gender  \\\n",
       "0  This 60-year-old male was hospitalized due to ...  [[60.0, 'year']]      M   \n",
       "1  A 39-year-old man was hospitalized due to an i...  [[39.0, 'year']]      M   \n",
       "2  One week after a positive COVID-19 result this...  [[57.0, 'year']]      M   \n",
       "3  This 69-year-old male was admitted to the ICU ...  [[69.0, 'year']]      M   \n",
       "4  This 57-year-old male was admitted to the ICU ...  [[57.0, 'year']]      M   \n",
       "\n",
       "                                   relevant_articles  \\\n",
       "0  {'32320506': 1, '32293716': 1, '23219649': 1, ...   \n",
       "1  {'32320506': 1, '32293716': 1, '23219649': 1, ...   \n",
       "2  {'32320506': 1, '32293716': 1, '23219649': 1, ...   \n",
       "3  {'32320506': 1, '32293716': 1, '23219649': 1, ...   \n",
       "4  {'32320506': 1, '32293716': 1, '23219649': 1, ...   \n",
       "\n",
       "                                    similar_patients  \n",
       "0  {'7665777-2': 2, '7665777-3': 2, '7665777-4': ...  \n",
       "1  {'7665777-1': 2, '7665777-3': 2, '7665777-4': ...  \n",
       "2  {'7665777-1': 2, '7665777-2': 2, '7665777-4': ...  \n",
       "3  {'7665777-1': 2, '7665777-2': 2, '7665777-3': ...  \n",
       "4  {'7665777-1': 2, '7665777-2': 2, '7665777-3': ...  "
      ]
     },
     "execution_count": 3,
     "metadata": {},
     "output_type": "execute_result"
    }
   ],
   "source": [
    "patients_summaries.head()"
   ]
  },
  {
   "cell_type": "markdown",
   "metadata": {},
   "source": [
    "### Compute the average length of all titles:"
   ]
  },
  {
   "cell_type": "code",
   "execution_count": 8,
   "metadata": {},
   "outputs": [
    {
     "data": {
      "text/plain": [
       "count    167034.000000\n",
       "mean         96.153071\n",
       "std          34.584621\n",
       "min           7.000000\n",
       "25%          71.000000\n",
       "50%          92.000000\n",
       "75%         117.000000\n",
       "max         377.000000\n",
       "dtype: float64"
      ]
     },
     "execution_count": 8,
     "metadata": {},
     "output_type": "execute_result"
    }
   ],
   "source": [
    "title_lengths = [len(title) for title in patients_summaries.title]\n",
    "pd.Series(title_lengths).describe()"
   ]
  },
  {
   "cell_type": "code",
   "execution_count": 9,
   "metadata": {},
   "outputs": [
    {
     "data": {
      "image/png": "[encoded data removed]",
      "text/plain": [
       "<Figure size 2000x400 with 1 Axes>"
      ]
     },
     "metadata": {},
     "output_type": "display_data"
    }
   ],
   "source": [
    "import matplotlib.pyplot as plt\n",
    "\n",
    "plt.figure(figsize=(20, 4))\n",
    "plt.hist(title_lengths, bins=100, label=\"count\")\n",
    "plt.xlabel('Length')\n",
    "plt.ylabel('Count')\n",
    "plt.title('Title Length Distribution')\n",
    "plt.show()"
   ]
  },
  {
   "cell_type": "markdown",
   "metadata": {},
   "source": [
    "### Compute the average length of all patient summaries:"
   ]
  },
  {
   "cell_type": "code",
   "execution_count": 10,
   "metadata": {},
   "outputs": [
    {
     "data": {
      "text/plain": [
       "count    167034.000000\n",
       "mean       2765.333022\n",
       "std        1659.310912\n",
       "min          55.000000\n",
       "25%        1645.000000\n",
       "50%        2491.000000\n",
       "75%        3529.000000\n",
       "max       95400.000000\n",
       "dtype: float64"
      ]
     },
     "execution_count": 10,
     "metadata": {},
     "output_type": "execute_result"
    }
   ],
   "source": [
    "summary_lengths = pd.Series([len(summary) for summary in patients_summaries.patient])\n",
    "summary_lengths.describe()"
   ]
  },
  {
   "cell_type": "code",
   "execution_count": 11,
   "metadata": {},
   "outputs": [
    {
     "data": {
      "image/png": "[encoded data removed]",
      "text/plain": [
       "<Figure size 2000x400 with 1 Axes>"
      ]
     },
     "metadata": {},
     "output_type": "display_data"
    }
   ],
   "source": [
    "import numpy as np\n",
    "\n",
    "\n",
    "quantile_1 = summary_lengths.quantile(0.01)\n",
    "quantile_99 = summary_lengths.quantile(0.99)\n",
    "index = summary_lengths[(summary_lengths >= quantile_99)|(summary_lengths <= quantile_1)].index\n",
    "\n",
    "summary_lengths_cleaned = summary_lengths.drop(index, inplace=False)\n",
    "\n",
    "plt.figure(figsize=(20, 4))\n",
    "plt.hist(summary_lengths_cleaned, bins=200, label=\"count\")\n",
    "plt.xlabel('Length')\n",
    "plt.ylabel('Count')\n",
    "plt.title('Patient Summary Length Distribution (trimmed)')\n",
    "plt.show()"
   ]
  },
  {
   "cell_type": "markdown",
   "metadata": {},
   "source": [
    "### Generate random subsets for analysing the veterinary content:"
   ]
  },
  {
   "cell_type": "code",
   "execution_count": null,
   "metadata": {},
   "outputs": [],
   "source": [
    "patients_summaries_samples = patients_summaries.sample(n=100, random_state=42)\n"
   ]
  },
  {
   "cell_type": "code",
   "execution_count": null,
   "metadata": {},
   "outputs": [],
   "source": [
    "patients_summaries_samples.to_json(\"patients_summaries_samples\", orient=\"records\", lines=True, index=False)"
   ]
  },
  {
   "cell_type": "markdown",
   "metadata": {},
   "source": [
    "Manual analysis of these random generated sample sets led to the following results:\n",
    "\n",
    "|Sample Set|Veterinary Proportion|Extrapolation|\n",
    "|:-----|:--------|:--------|\n",
    "|Patients Summaries|1%|~ 1,670|"
   ]
  }
 ],
 "metadata": {
  "kernelspec": {
   "display_name": "Python 3",
   "language": "python",
   "name": "python3"
  },
  "language_info": {
   "codemirror_mode": {
    "name": "ipython",
    "version": 3
   },
   "file_extension": ".py",
   "mimetype": "text/x-python",
   "name": "python",
   "nbconvert_exporter": "python",
   "pygments_lexer": "ipython3",
   "version": "3.11.6"
  }
 },
 "nbformat": 4,
 "nbformat_minor": 2
}
