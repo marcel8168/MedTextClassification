{
 "cells": [
  {
   "cell_type": "code",
   "execution_count": 1,
   "metadata": {},
   "outputs": [],
   "source": [
    "import time\n",
    "\n",
    "pmid = 167034"
   ]
  },
  {
   "cell_type": "markdown",
   "metadata": {},
   "source": [
    "E-utility call via URL query\n",
    "https://www.ncbi.nlm.nih.gov/books/NBK25500/"
   ]
  },
  {
   "cell_type": "code",
   "execution_count": 3,
   "metadata": {},
   "outputs": [
    {
     "name": "stdout",
     "output_type": "stream",
     "text": [
      "Antagonism by dibutyryl adenosine cyclic 3',5'-monophosphate and testololactone of concanavalin A capping.\n",
      "1.8792273998260498\n"
     ]
    }
   ],
   "source": [
    "import xmltodict\n",
    "import urllib.request\n",
    "\n",
    "start = time.time()\n",
    "\n",
    "url = f\"https://eutils.ncbi.nlm.nih.gov/entrez/eutils/efetch.fcgi?db=pubmed&id={pmid}&retmode=xml\"\n",
    "response = urllib.request.urlopen(url).read()\n",
    "site = xmltodict.parse(response)\n",
    "article = site['PubmedArticleSet']['PubmedArticle']\n",
    "print(article['MedlineCitation']['Article']['ArticleTitle'])\n",
    "\n",
    "end = time.time()\n",
    "print(end - start)"
   ]
  },
  {
   "cell_type": "markdown",
   "metadata": {},
   "source": [
    "MetaPub\n",
    "https://github.com/metapub/metapub"
   ]
  },
  {
   "cell_type": "code",
   "execution_count": 5,
   "metadata": {},
   "outputs": [
    {
     "name": "stderr",
     "output_type": "stream",
     "text": [
      "\u001b[32m2024-03-18 15:42:28\u001b[0m \u001b[35mDESKTOP-06JAEO8\u001b[0m \u001b[34mmetapub.config[11100]\u001b[0m \u001b[1;30mWARNING\u001b[0m \u001b[33mNCBI_API_KEY was not set.\u001b[0m\n"
     ]
    },
    {
     "name": "stdout",
     "output_type": "stream",
     "text": [
      "Antagonism by dibutyryl adenosine cyclic 3',5'-monophosphate and testololactone of concanavalin A capping.\n",
      "1.3192362785339355\n"
     ]
    }
   ],
   "source": [
    "import os\n",
    "import metapub\n",
    "\n",
    "start = time.time()\n",
    "\n",
    "fetcher = metapub.PubMedFetcher()\n",
    "article = fetcher.article_by_pmid(pmid)\n",
    "print(article.title)\n",
    "\n",
    "end = time.time()\n",
    "print(end - start)"
   ]
  },
  {
   "cell_type": "markdown",
   "metadata": {},
   "source": [
    "PyMed\n",
    "https://github.com/gijswobben/pymed"
   ]
  },
  {
   "cell_type": "code",
   "execution_count": 6,
   "metadata": {},
   "outputs": [
    {
     "name": "stdout",
     "output_type": "stream",
     "text": [
      "Antagonism by dibutyryl adenosine cyclic 3',5'-monophosphate and testololactone of concanavalin A capping.\n",
      "2.19498348236084\n"
     ]
    }
   ],
   "source": [
    "from pymed import PubMed\n",
    "\n",
    "start = time.time()\n",
    "\n",
    "pubmed = PubMed(tool=\"mytool\", email=\"example@mail.com\")\n",
    "query = f'{pmid} [PMID]'\n",
    "\n",
    "results = pubmed.query(query, max_results=1)\n",
    "for result in results:\n",
    "    print(result.title)\n",
    "\n",
    "end = time.time()\n",
    "print(end - start)"
   ]
  },
  {
   "cell_type": "markdown",
   "metadata": {},
   "source": [
    "EntrezPy https://gitlab.com/ncbipy/entrezpy"
   ]
  },
  {
   "cell_type": "code",
   "execution_count": 8,
   "metadata": {},
   "outputs": [
    {
     "name": "stderr",
     "output_type": "stream",
     "text": [
      "\u001b[32m2024-03-18 15:43:31\u001b[0m \u001b[35mDESKTOP-06JAEO8\u001b[0m \u001b[34mentrezpy.conduit.Conduit[11100]\u001b[0m \u001b[1;30mINFO\u001b[0m {\"querying\": {\"queryid\": \"hPPJjdAYRwWiYwQ1JLU9nA==\", \"util\": \"esearch\"}}\n",
      "\u001b[32m2024-03-18 15:43:32\u001b[0m \u001b[35mDESKTOP-06JAEO8\u001b[0m \u001b[34mentrezpy.esearch.esearch_request.EsearchRequest[11100]\u001b[0m \u001b[1;30mINFO\u001b[0m {\"query\": \"hPPJjdAYRwWiYwQ1JLU9nA==\", \"request\": 0, \"status\": 0}\n",
      "\u001b[32m2024-03-18 15:43:32\u001b[0m \u001b[35mDESKTOP-06JAEO8\u001b[0m \u001b[34mentrezpy.esearch.esearcher.Esearcher[11100]\u001b[0m \u001b[1;30mINFO\u001b[0m {\"query\": \"hPPJjdAYRwWiYwQ1JLU9nA==\", \"status\": \"OK\"}\n",
      "\u001b[32m2024-03-18 15:43:32\u001b[0m \u001b[35mDESKTOP-06JAEO8\u001b[0m \u001b[34mentrezpy.esearch.esearch_request.EsearchRequest[11100]\u001b[0m \u001b[1;30mINFO\u001b[0m {\"query\": \"hPPJjdAYRwWiYwQ1JLU9nA==\", \"request\": 0, \"status\": 0}\n",
      "\u001b[32m2024-03-18 15:43:33\u001b[0m \u001b[35mDESKTOP-06JAEO8\u001b[0m \u001b[34mentrezpy.conduit.Conduit[11100]\u001b[0m \u001b[1;30mINFO\u001b[0m {\"querying\": {\"queryid\": \"5kDUlhdQRJOC9ICpy4ZbBA==\", \"util\": \"efetch\"}}\n",
      "\u001b[32m2024-03-18 15:43:34\u001b[0m \u001b[35mDESKTOP-06JAEO8\u001b[0m \u001b[34mentrezpy.efetch.efetch_request.EfetchRequest[11100]\u001b[0m \u001b[1;30mINFO\u001b[0m {\"query\": \"5kDUlhdQRJOC9ICpy4ZbBA==\", \"request\": 0, \"status\": 0}\n",
      "\u001b[32m2024-03-18 15:43:34\u001b[0m \u001b[35mDESKTOP-06JAEO8\u001b[0m \u001b[34mentrezpy.efetch.efetch_request.EfetchRequest[11100]\u001b[0m \u001b[1;30mINFO\u001b[0m {\"query\": \"5kDUlhdQRJOC9ICpy4ZbBA==\", \"request\": 0, \"status\": 0}\n"
     ]
    },
    {
     "name": "stdout",
     "output_type": "stream",
     "text": [
      "<?xml version=\"1.0\" ?>\n",
      "<!DOCTYPE PubmedArticleSet PUBLIC \"-//NLM//DTD PubMedArticle, 1st January 2024//EN\" \"https://dtd.nlm.nih.gov/ncbi/pubmed/out/pubmed_240101.dtd\">\n",
      "<PubmedArticleSet>\n",
      "<PubmedArticle><MedlineCitation Status=\"MEDLINE\" Owner=\"NLM\"><PMID Version=\"1\">167034</PMID><DateCompleted><Year>1975</Year><Month>10</Month><Day>10</Day></DateCompleted><DateRevised><Year>2019</Year><Month>05</Month><Day>08</Day></DateRevised><Article PubModel=\"Print\"><Journal><ISSN IssnType=\"Print\">0021-9525</ISSN><JournalIssue CitedMedium=\"Print\"><Volume>66</Volume><Issue>2</Issue><PubDate><Year>1975</Year><Month>Aug</Month></PubDate></JournalIssue><Title>The Journal of cell biology</Title><ISOAbbreviation>J Cell Biol</ISOAbbreviation></Journal><ArticleTitle>Antagonism by dibutyryl adenosine cyclic 3',5'-monophosphate and testololactone of concanavalin A capping.</ArticleTitle><Pagination><StartPage>392</StartPage><EndPage>403</EndPage><MedlinePgn>392-403</MedlinePgn></Pagination><Abstract><AbstractText>Exposure of CHO-K1 cells in vitro to dibutyryl adenosine cyclic 3',5'-monophosphate (DBcAMP) plus testololactone produces a rapid, reversible antagonism of ligand-induced collection of initially dispersed concanavalin A (Con A) binding sites into a caplike mass. Morphologically, as Con A capping occurs, the cells become less spread and then round completely. With prolonged Con A exposure, cells cultured in either the absence or the presence of DBcAMP plus testololactone cap and round. Capping is blocked by cold treatment and respiratory inhibitors. Colcemid at concentrations greater than 1 muM promotes both Con A capping and cell rounding. Cytochalasin B at similar concentrations inhibits both capping and cell rounding. Treatment of cells with Con A has little effect on intracellular cAMP concentration. Possible mechanisms by which cAMP may modulate the movement of Con A binding sites are discussed.</AbstractText></Abstract><AuthorList CompleteYN=\"Y\"><Author ValidYN=\"Y\"><LastName>Storrie</LastName><ForeName>B</ForeName><Initials>B</Initials></Author></AuthorList><Language>eng</Language><PublicationTypeList><PublicationType UI=\"D016428\">Journal Article</PublicationType></PublicationTypeList></Article><MedlineJournalInfo><Country>United States</Country><MedlineTA>J Cell Biol</MedlineTA><NlmUniqueID>0375356</NlmUniqueID><ISSNLinking>0021-9525</ISSNLinking></MedlineJournalInfo><ChemicalList><Chemical><RegistryNumber>0</RegistryNumber><NameOfSubstance UI=\"D001386\">Azides</NameOfSubstance></Chemical><Chemical><RegistryNumber>0</RegistryNumber><NameOfSubstance UI=\"D005452\">Fluoresceins</NameOfSubstance></Chemical><Chemical><RegistryNumber>0</RegistryNumber><NameOfSubstance UI=\"D007461\">Iodoacetates</NameOfSubstance></Chemical><Chemical><RegistryNumber>11028-71-0</RegistryNumber><NameOfSubstance UI=\"D003208\">Concanavalin A</NameOfSubstance></Chemical><Chemical><RegistryNumber>3CHI920QS7</RegistryNumber><NameOfSubstance UI=\"D003571\">Cytochalasin B</NameOfSubstance></Chemical><Chemical><RegistryNumber>63X7MBT2LQ</RegistryNumber><NameOfSubstance UI=\"D003994\">Bucladesine</NameOfSubstance></Chemical><Chemical><RegistryNumber>6J9BLA949Q</RegistryNumber><NameOfSubstance UI=\"D013738\">Testolactone</NameOfSubstance></Chemical><Chemical><RegistryNumber>C137DTR5RG</RegistryNumber><NameOfSubstance UI=\"D013806\">Theophylline</NameOfSubstance></Chemical><Chemical><RegistryNumber>SML2Y3J35T</RegistryNumber><NameOfSubstance UI=\"D003078\">Colchicine</NameOfSubstance></Chemical></ChemicalList><CitationSubset>IM</CitationSubset><MeshHeadingList><MeshHeading><DescriptorName UI=\"D000818\" MajorTopicYN=\"N\">Animals</DescriptorName></MeshHeading><MeshHeading><DescriptorName UI=\"D001386\" MajorTopicYN=\"N\">Azides</DescriptorName><QualifierName UI=\"Q000494\" MajorTopicYN=\"N\">pharmacology</QualifierName></MeshHeading><MeshHeading><DescriptorName UI=\"D001666\" MajorTopicYN=\"N\">Binding Sites, Antibody</DescriptorName></MeshHeading><MeshHeading><DescriptorName UI=\"D003994\" MajorTopicYN=\"N\">Bucladesine</DescriptorName><QualifierName UI=\"Q000494\" MajorTopicYN=\"Y\">pharmacology</QualifierName></MeshHeading><MeshHeading><DescriptorName UI=\"D002460\" MajorTopicYN=\"N\">Cell Line</DescriptorName></MeshHeading><MeshHeading><DescriptorName UI=\"D003078\" MajorTopicYN=\"N\">Colchicine</DescriptorName><QualifierName UI=\"Q000494\" MajorTopicYN=\"N\">pharmacology</QualifierName></MeshHeading><MeshHeading><DescriptorName UI=\"D003080\" MajorTopicYN=\"N\">Cold Temperature</DescriptorName></MeshHeading><MeshHeading><DescriptorName UI=\"D003208\" MajorTopicYN=\"N\">Concanavalin A</DescriptorName><QualifierName UI=\"Q000378\" MajorTopicYN=\"Y\">metabolism</QualifierName></MeshHeading><MeshHeading><DescriptorName UI=\"D006224\" MajorTopicYN=\"N\">Cricetinae</DescriptorName></MeshHeading><MeshHeading><DescriptorName UI=\"D003571\" MajorTopicYN=\"N\">Cytochalasin B</DescriptorName><QualifierName UI=\"Q000494\" MajorTopicYN=\"N\">pharmacology</QualifierName></MeshHeading><MeshHeading><DescriptorName UI=\"D004336\" MajorTopicYN=\"N\">Drug Antagonism</DescriptorName></MeshHeading><MeshHeading><DescriptorName UI=\"D005260\" MajorTopicYN=\"N\">Female</DescriptorName></MeshHeading><MeshHeading><DescriptorName UI=\"D005452\" MajorTopicYN=\"N\">Fluoresceins</DescriptorName></MeshHeading><MeshHeading><DescriptorName UI=\"D007461\" MajorTopicYN=\"N\">Iodoacetates</DescriptorName><QualifierName UI=\"Q000494\" MajorTopicYN=\"N\">pharmacology</QualifierName></MeshHeading><MeshHeading><DescriptorName UI=\"D008854\" MajorTopicYN=\"N\">Microscopy, Electron</DescriptorName></MeshHeading><MeshHeading><DescriptorName UI=\"D010053\" MajorTopicYN=\"N\">Ovary</DescriptorName></MeshHeading><MeshHeading><DescriptorName UI=\"D013738\" MajorTopicYN=\"N\">Testolactone</DescriptorName><QualifierName UI=\"Q000494\" MajorTopicYN=\"Y\">pharmacology</QualifierName></MeshHeading><MeshHeading><DescriptorName UI=\"D013806\" MajorTopicYN=\"N\">Theophylline</DescriptorName><QualifierName UI=\"Q000494\" MajorTopicYN=\"N\">pharmacology</QualifierName></MeshHeading></MeshHeadingList></MedlineCitation><PubmedData><History><PubMedPubDate PubStatus=\"pubmed\"><Year>1975</Year><Month>8</Month><Day>1</Day></PubMedPubDate><PubMedPubDate PubStatus=\"medline\"><Year>1975</Year><Month>8</Month><Day>1</Day><Hour>0</Hour><Minute>1</Minute></PubMedPubDate><PubMedPubDate PubStatus=\"entrez\"><Year>1975</Year><Month>8</Month><Day>1</Day><Hour>0</Hour><Minute>0</Minute></PubMedPubDate><PubMedPubDate PubStatus=\"pmc-release\"><Year>1976</Year><Month>2</Month><Day>1</Day></PubMedPubDate></History><PublicationStatus>ppublish</PublicationStatus><ArticleIdList><ArticleId IdType=\"pubmed\">167034</ArticleId><ArticleId IdType=\"pmc\">PMC2109555</ArticleId><ArticleId IdType=\"doi\">10.1083/jcb.66.2.392</ArticleId></ArticleIdList><ReferenceList><Reference><Citation>Proc Natl Acad Sci U S A. 1971 Feb;68(2):358-61</Citation><ArticleIdList><ArticleId IdType=\"pubmed\">4322607</ArticleId></ArticleIdList></Reference><Reference><Citation>Proc Natl Acad Sci U S A. 1971 Jul;68(7):1648-52</Citation><ArticleIdList><ArticleId IdType=\"pubmed\">4327009</ArticleId></ArticleIdList></Reference><Reference><Citation>Proc Natl Acad Sci U S A. 1972 Jul;69(7):1943-7</Citation><ArticleIdList><ArticleId IdType=\"pubmed\">4340166</ArticleId></ArticleIdList></Reference><Reference><Citation>Science. 1972 Nov 24;178(4063):867-8</Citation><ArticleIdList><ArticleId IdType=\"pubmed\">4343698</ArticleId></ArticleIdList></Reference><Reference><Citation>J Exp Med. 1954 Feb;99(2):167-82</Citation><ArticleIdList><ArticleId IdType=\"pubmed\">13130792</ArticleId></ArticleIdList></Reference><Reference><Citation>Int J Cancer. 1972 May 15;9(3):676-84</Citation><ArticleIdList><ArticleId IdType=\"pubmed\">4122253</ArticleId></ArticleIdList></Reference><Reference><Citation>J Cell Biol. 1974 Apr;61(1):70-82</Citation><ArticleIdList><ArticleId IdType=\"pubmed\">4132067</ArticleId></ArticleIdList></Reference><Reference><Citation>J Cell Biol. 1973 Nov;59(2 Pt 1):395-406</Citation><ArticleIdList><ArticleId IdType=\"pubmed\">4141707</ArticleId></ArticleIdList></Reference><Reference><Citation>Proc Natl Acad Sci U S A. 1972 Feb;69(2):442-6</Citation><ArticleIdList><ArticleId IdType=\"pubmed\">4258316</ArticleId></ArticleIdList></Reference><Reference><Citation>J Exp Med. 1974 Nov 1;140(5):1364-86</Citation><ArticleIdList><ArticleId IdType=\"pubmed\">4278548</ArticleId></ArticleIdList></Reference><Reference><Citation>Fed Proc. 1973 Jan;32(1):91-101</Citation><ArticleIdList><ArticleId IdType=\"pubmed\">4346328</ArticleId></ArticleIdList></Reference><Reference><Citation>J Cell Biol. 1973 Mar;56(3):666-75</Citation><ArticleIdList><ArticleId IdType=\"pubmed\">4347206</ArticleId></ArticleIdList></Reference><Reference><Citation>Proc Natl Acad Sci U S A. 1973 Oct;70(10):2906-10</Citation><ArticleIdList><ArticleId IdType=\"pubmed\">4355372</ArticleId></ArticleIdList></Reference><Reference><Citation>J Cell Biol. 1973 Dec;59(3):549-58</Citation><ArticleIdList><ArticleId IdType=\"pubmed\">4361656</ArticleId></ArticleIdList></Reference><Reference><Citation>Exp Cell Res. 1974 Mar 15;84(1):207-18</Citation><ArticleIdList><ArticleId IdType=\"pubmed\">4361714</ArticleId></ArticleIdList></Reference><Reference><Citation>J Cell Biol. 1974 Jul;62(1):247-52</Citation><ArticleIdList><ArticleId IdType=\"pubmed\">4366107</ArticleId></ArticleIdList></Reference><Reference><Citation>Cell. 1974 Jul;2(3):145-62</Citation><ArticleIdList><ArticleId IdType=\"pubmed\">4369770</ArticleId></ArticleIdList></Reference><Reference><Citation>J Cell Biol. 1973 Nov;59(2 Pt 1):471-9</Citation><ArticleIdList><ArticleId IdType=\"pubmed\">4375682</ArticleId></ArticleIdList></Reference><Reference><Citation>Nat New Biol. 1972 Jul 26;238(82):120-2</Citation><ArticleIdList><ArticleId IdType=\"pubmed\">4505426</ArticleId></ArticleIdList></Reference><Reference><Citation>Proc Natl Acad Sci U S A. 1973 May;70(5):1442-6</Citation><ArticleIdList><ArticleId IdType=\"pubmed\">4514314</ArticleId></ArticleIdList></Reference><Reference><Citation>Proc Natl Acad Sci U S A. 1974 Jun;71(6):2212-6</Citation><ArticleIdList><ArticleId IdType=\"pubmed\">4526206</ArticleId></ArticleIdList></Reference><Reference><Citation>Proc Natl Acad Sci U S A. 1974 Nov;71(11):4457-61</Citation><ArticleIdList><ArticleId IdType=\"pubmed\">4530994</ArticleId></ArticleIdList></Reference><Reference><Citation>Proc Natl Acad Sci U S A. 1972 Mar;69(3):608-12</Citation><ArticleIdList><ArticleId IdType=\"pubmed\">4551979</ArticleId></ArticleIdList></Reference><Reference><Citation>Proc Natl Acad Sci U S A. 1972 Sep;69(9):2456-9</Citation><ArticleIdList><ArticleId IdType=\"pubmed\">4560687</ArticleId></ArticleIdList></Reference><Reference><Citation>Exp Cell Res. 1973 Mar 30;78(1):1-14</Citation><ArticleIdList><ArticleId IdType=\"pubmed\">4570581</ArticleId></ArticleIdList></Reference><Reference><Citation>J Exp Med. 1974 Nov 1;140(5):1387-403</Citation><ArticleIdList><ArticleId IdType=\"pubmed\">4607785</ArticleId></ArticleIdList></Reference><Reference><Citation>FEBS Lett. 1973 May 15;32(1):124-8</Citation><ArticleIdList><ArticleId IdType=\"pubmed\">4736707</ArticleId></ArticleIdList></Reference><Reference><Citation>Nature. 1974 Jul 5;250(461):54-6</Citation><ArticleIdList><ArticleId IdType=\"pubmed\">4841158</ArticleId></ArticleIdList></Reference><Reference><Citation>Proc Natl Acad Sci U S A. 1968 Aug;60(4):1275-81</Citation><ArticleIdList><ArticleId IdType=\"pubmed\">5244736</ArticleId></ArticleIdList></Reference><Reference><Citation>Biochemistry. 1968 Dec;7(12):4466-79</Citation><ArticleIdList><ArticleId IdType=\"pubmed\">5700666</ArticleId></ArticleIdList></Reference><Reference><Citation>J Immunol. 1967 Jul;99(1):158-63</Citation><ArticleIdList><ArticleId IdType=\"pubmed\">6029273</ArticleId></ArticleIdList></Reference></ReferenceList></PubmedData></PubmedArticle></PubmedArticleSet>\n"
     ]
    }
   ],
   "source": [
    "import entrezpy.conduit\n",
    "\n",
    "c = entrezpy.conduit.Conduit('example@mail.com', apikey_envar='NCBI_API_KEY')\n",
    "fetch_pubmed = c.new_pipeline()\n",
    "sid = fetch_pubmed.add_search({'db' : 'pubmed', 'term' : f'{pmid} [PMID]', 'rettype':'xml'})\n",
    "fid = fetch_pubmed.add_fetch({'db':'pubmed', 'retmode':'xml'}, dependency=sid)\n",
    "\n",
    "a = c.run(fetch_pubmed)\n",
    "res = a.get_result()"
   ]
  },
  {
   "cell_type": "code",
   "execution_count": null,
   "metadata": {},
   "outputs": [],
   "source": []
  }
 ],
 "metadata": {
  "kernelspec": {
   "display_name": "Python 3 (ipykernel)",
   "language": "python",
   "name": "python3"
  },
  "language_info": {
   "codemirror_mode": {
    "name": "ipython",
    "version": 3
   },
   "file_extension": ".py",
   "mimetype": "text/x-python",
   "name": "python",
   "nbconvert_exporter": "python",
   "pygments_lexer": "ipython3",
   "version": "3.11.6"
  }
 },
 "nbformat": 4,
 "nbformat_minor": 4
}
