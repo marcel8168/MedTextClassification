{
 "cells": [
  {
   "cell_type": "markdown",
   "metadata": {},
   "source": [
    "# Dataset creation process"
   ]
  },
  {
   "cell_type": "code",
   "execution_count": null,
   "metadata": {},
   "outputs": [],
   "source": [
    "import os\n",
    "import pandas as pd\n",
    "\n",
    "from Source_code.z_utils.data_preparing import split_data\n",
    "from Source_code.z_utils.data_preprocessing import xml_to_df\n",
    "from Source_code.z_utils.global_constants import RANDOM_SEED\n",
    "\n",
    "\n",
    "datasets = [\"human_medical_data/\", \"veterinary_medical_data/\"]\n",
    "data_path = \"./data/\"\n",
    "xml_files = []\n",
    "for folder in datasets:\n",
    "    xml_files.append([f\"{data_path}{folder}{xml}\" for xml in os.listdir(data_path + folder)])\n",
    "\n",
    "hum_df, vet_df = xml_to_df(xml_files)\n",
    "\n",
    "# balance case reports and other text types\n",
    "vet_case_rep = vet_df[vet_df['text_types'].apply(lambda x: \"Case Reports\" in x)].sample(frac=1, random_state=RANDOM_SEED).reset_index(drop=True, inplace=False)\n",
    "max_num = len(vet_case_rep)\n",
    "vet_jour_art = vet_df[vet_df['text_types'].apply(lambda x: \"Case Reports\" not in x)].sample(max_num, random_state=RANDOM_SEED).reset_index(drop=True, inplace=False)\n",
    "hum_case_rep = hum_df[hum_df['text_types'].apply(lambda x: \"Case Reports\" in x)].sample(max_num, random_state=RANDOM_SEED).reset_index(drop=True, inplace=False)\n",
    "hum_jour_art = hum_df[hum_df['text_types'].apply(lambda x: \"Case Reports\" not in x)].sample(max_num, random_state=RANDOM_SEED).reset_index(drop=True, inplace=False)\n",
    "\n",
    "train_set_case_rep, val_set_case_rep, test_set_case_rep = split_data(hum_case_rep, vet_case_rep)\n",
    "train_set_jour_art, val_set_jour_art, test_set_jour_art = split_data(hum_jour_art, vet_jour_art)\n",
    "\n",
    "train_set = pd.concat([train_set_case_rep, train_set_jour_art]).sample(frac=1, random_state=RANDOM_SEED).reset_index(drop=True, inplace=False)\n",
    "val_set = pd.concat([val_set_case_rep, val_set_jour_art]).sample(frac=1, random_state=RANDOM_SEED).reset_index(drop=True, inplace=False)\n",
    "test_set = pd.concat([test_set_case_rep, test_set_jour_art]).sample(frac=1, random_state=RANDOM_SEED).reset_index(drop=True, inplace=False)\n",
    "\n",
    "train_set[\"title_abstract\"] = train_set[[\"title\", \"abstract\"]].apply(lambda row: ' '.join(row.values.astype(str)), axis=1)\n",
    "val_set[\"title_abstract\"] = val_set[[\"title\", \"abstract\"]].apply(lambda row: ' '.join(row.values.astype(str)), axis=1)\n",
    "test_set[\"title_abstract\"] = test_set[[\"title\", \"abstract\"]].apply(lambda row: ' '.join(row.values.astype(str)), axis=1)"
   ]
  },
  {
   "cell_type": "code",
   "execution_count": null,
   "metadata": {},
   "outputs": [],
   "source": [
    "print(\"Shapes\")\n",
    "print(\"-------------\")\n",
    "print(f\"Training set: {train_set.shape}\")\n",
    "print(f\"Validation set: {val_set.shape}\")\n",
    "print(f\"Test set: {test_set.shape}\")"
   ]
  },
  {
   "cell_type": "code",
   "execution_count": null,
   "metadata": {},
   "outputs": [],
   "source": [
    "print(\"Class balance\")\n",
    "print(\"-------------\")\n",
    "print(f\"Training set: {train_set.labels.describe().loc['mean']}\")\n",
    "print(f\"Validation set: {val_set.labels.describe().loc['mean']}\")\n",
    "print(f\"Test set: {test_set.labels.describe().loc['mean']}\")"
   ]
  },
  {
   "cell_type": "code",
   "execution_count": null,
   "metadata": {},
   "outputs": [],
   "source": [
    "train_set[[\"pmid\", \"text_types\", \"title\", \"abstract\", \"title_abstract\", \"meshtermlist\", \"labels\"]].to_json('train.json', orient='records')\n",
    "val_set[[\"pmid\", \"text_types\", \"title\", \"abstract\", \"title_abstract\", \"meshtermlist\", \"labels\"]].to_json('valid.json', orient='records')\n",
    "test_set[[\"pmid\", \"text_types\", \"title\", \"abstract\", \"title_abstract\", \"meshtermlist\", \"labels\"]].to_json('test.json', orient='records')"
   ]
  }
 ],
 "metadata": {
  "kernelspec": {
   "display_name": ".venv",
   "language": "python",
   "name": "python3"
  },
  "language_info": {
   "codemirror_mode": {
    "name": "ipython",
    "version": 3
   },
   "file_extension": ".py",
   "mimetype": "text/x-python",
   "name": "python",
   "nbconvert_exporter": "python",
   "pygments_lexer": "ipython3",
   "version": "3.11.6"
  }
 },
 "nbformat": 4,
 "nbformat_minor": 4
}
