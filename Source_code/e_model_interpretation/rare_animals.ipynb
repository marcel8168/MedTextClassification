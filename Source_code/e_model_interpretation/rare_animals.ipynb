{
 "cells": [
  {
   "cell_type": "markdown",
   "metadata": {},
   "source": [
    "# Prediction based on texts containing rare animals"
   ]
  },
  {
   "cell_type": "code",
   "execution_count": 1,
   "metadata": {},
   "outputs": [
    {
     "data": {
      "text/plain": [
       "'cuda'"
      ]
     },
     "execution_count": 1,
     "metadata": {},
     "output_type": "execute_result"
    }
   ],
   "source": [
    "import torch\n",
    "from torch import cuda\n",
    "\n",
    "\n",
    "device = 'cuda' if cuda.is_available() else 'cpu'\n",
    "device"
   ]
  },
  {
   "cell_type": "markdown",
   "metadata": {},
   "source": [
    "### Load models"
   ]
  },
  {
   "cell_type": "code",
   "execution_count": 2,
   "metadata": {},
   "outputs": [],
   "source": [
    "model_names = {\n",
    "    \"bert\":{\"slug\": \"bert-base-uncased-pubmed\", \"file_name\":\"bert-base-uncased.pt\"},\n",
    "    \"roberta\":{\"slug\": \"roberta-base-pubmed\", \"file_name\":\"roberta-base.pt\"},\n",
    "    \"deberta\":{\"slug\": \"deberta-base-pubmed\", \"file_name\":\"deberta-base.pt\"},\n",
    "    \"bluebert\":{\"slug\": \"bluebert-large-pubmed\", \"file_name\":\"bluebert_pubmed_uncased_L-24_H-1024_A-16.pt\"},\n",
    "    \"xlnet\":{\"slug\": \"xlnet-large-pubmed\", \"file_name\":\"xlnet-large-cased.pt\"},\n",
    "    \"svm\":{\"slug\":\"svm-linear-pubmed\", \"file_name\":[\"svm.pkl\", \"vectorizer.pkl\"]}\n",
    "}"
   ]
  },
  {
   "cell_type": "code",
   "execution_count": 3,
   "metadata": {},
   "outputs": [
    {
     "name": "stdout",
     "output_type": "stream",
     "text": [
      "bert loaded.\n",
      "roberta loaded.\n",
      "deberta loaded.\n",
      "bluebert loaded.\n",
      "xlnet loaded.\n",
      "Downloading svm-linear-pubmed.tar.gz to ./models\n"
     ]
    },
    {
     "name": "stderr",
     "output_type": "stream",
     "text": [
      "100%|███████████████████████████████████████████████████████████████████████████████████████████████████████████████████████████████████████████████████████████████████████████████████████████████████████| 36.4M/36.4M [00:01<00:00, 21.4MB/s]\n"
     ]
    },
    {
     "name": "stdout",
     "output_type": "stream",
     "text": [
      "\n",
      "svm loaded.\n",
      "vectorizer loaded.\n"
     ]
    }
   ],
   "source": [
    "import kaggle\n",
    "import os\n",
    "from sklearn.feature_extraction.text import TfidfVectorizer\n",
    "from sklearn.svm import LinearSVC\n",
    "import joblib\n",
    "\n",
    "from Source_code.z_utils.BERTClassifier import BERTClassifier\n",
    "from Source_code.z_utils.RoBERTaClassifier import RoBERTaClassifier\n",
    "from Source_code.z_utils.DeBERTaClassifier import DeBERTaClassifier\n",
    "from Source_code.z_utils.BlueBERTClassifier import BlueBERTClassifier\n",
    "from Source_code.z_utils.XLNetClassifier import XLNetClassifier\n",
    "\n",
    "\n",
    "kaggle.api.authenticate()\n",
    "data_path = \"./models/\"\n",
    "if not os.path.exists(data_path):\n",
    "    os.makedirs(data_path)\n",
    "    print(f\"Directory created: {data_path}\")\n",
    "models = {}\n",
    "\n",
    "for model in model_names.keys():\n",
    "    file_name = model_names[model][\"file_name\"]\n",
    "    target_path = f\"{data_path}{file_name}\"\n",
    "    \n",
    "    if not os.path.exists(target_path):\n",
    "        slug = model_names[model][\"slug\"]\n",
    "        if model == \"svm\":\n",
    "            kaggle.api.model_instance_version_download_cli(f\"marcelhiltner/{slug}/scikitlearn/{slug}/1\", data_path, untar=True)\n",
    "        else:\n",
    "            kaggle.api.model_instance_version_download_cli(f\"marcelhiltner/{slug}/pytorch/{slug}/1\", data_path, untar=True)\n",
    "        \n",
    "    if model == \"svm\":\n",
    "        svm = joblib.load(f\"{data_path}{file_name[0]}\")\n",
    "        print(\"svm loaded.\")\n",
    "        vectorizer = joblib.load(f\"{data_path}{file_name[1]}\")\n",
    "        print(\"vectorizer loaded.\")\n",
    "        models[model] = (svm, vectorizer)\n",
    "    else:\n",
    "        models[model] = torch.load(target_path)\n",
    "        models[model].eval()\n",
    "        print(f\"{model} loaded.\")"
   ]
  },
  {
   "cell_type": "markdown",
   "metadata": {},
   "source": [
    "### Preprocess text and predict"
   ]
  },
  {
   "cell_type": "code",
   "execution_count": 4,
   "metadata": {},
   "outputs": [
    {
     "name": "stdout",
     "output_type": "stream",
     "text": [
      "Collecting en-core-web-sm==3.7.1\n",
      "  Downloading https://github.com/explosion/spacy-models/releases/download/en_core_web_sm-3.7.1/en_core_web_sm-3.7.1-py3-none-any.whl (12.8 MB)\n",
      "     ---------------------------------------- 0.0/12.8 MB ? eta -:--:--\n",
      "     ---------------------------------------- 0.0/12.8 MB ? eta -:--:--\n",
      "     --------------------------------------- 0.0/12.8 MB 435.7 kB/s eta 0:00:30\n",
      "     --------------------------------------- 0.1/12.8 MB 751.6 kB/s eta 0:00:17\n",
      "     - -------------------------------------- 0.4/12.8 MB 2.8 MB/s eta 0:00:05\n",
      "     ---- ----------------------------------- 1.4/12.8 MB 7.4 MB/s eta 0:00:02\n",
      "     --------- ------------------------------ 3.2/12.8 MB 13.5 MB/s eta 0:00:01\n",
      "     --------------- ------------------------ 4.9/12.8 MB 17.6 MB/s eta 0:00:01\n",
      "     -------------------- ------------------- 6.7/12.8 MB 20.4 MB/s eta 0:00:01\n",
      "     ------------------------- -------------- 8.2/12.8 MB 22.9 MB/s eta 0:00:01\n",
      "     ------------------------------ --------- 9.8/12.8 MB 24.1 MB/s eta 0:00:01\n",
      "     ---------------------------------- ---- 11.4/12.8 MB 40.9 MB/s eta 0:00:01\n",
      "     --------------------------------------  12.8/12.8 MB 40.9 MB/s eta 0:00:01\n",
      "     --------------------------------------  12.8/12.8 MB 40.9 MB/s eta 0:00:01\n",
      "     --------------------------------------  12.8/12.8 MB 40.9 MB/s eta 0:00:01\n",
      "     --------------------------------------- 12.8/12.8 MB 28.4 MB/s eta 0:00:00\n",
      "Requirement already satisfied: spacy<3.8.0,>=3.7.2 in c:\\users\\albbl\\documents\\studium\\11_semester\\appendix_code\\.venv\\lib\\site-packages (from en-core-web-sm==3.7.1) (3.7.4)\n",
      "Requirement already satisfied: spacy-legacy<3.1.0,>=3.0.11 in c:\\users\\albbl\\documents\\studium\\11_semester\\appendix_code\\.venv\\lib\\site-packages (from spacy<3.8.0,>=3.7.2->en-core-web-sm==3.7.1) (3.0.12)\n",
      "Requirement already satisfied: spacy-loggers<2.0.0,>=1.0.0 in c:\\users\\albbl\\documents\\studium\\11_semester\\appendix_code\\.venv\\lib\\site-packages (from spacy<3.8.0,>=3.7.2->en-core-web-sm==3.7.1) (1.0.5)\n",
      "Requirement already satisfied: murmurhash<1.1.0,>=0.28.0 in c:\\users\\albbl\\documents\\studium\\11_semester\\appendix_code\\.venv\\lib\\site-packages (from spacy<3.8.0,>=3.7.2->en-core-web-sm==3.7.1) (1.0.10)\n",
      "Requirement already satisfied: cymem<2.1.0,>=2.0.2 in c:\\users\\albbl\\documents\\studium\\11_semester\\appendix_code\\.venv\\lib\\site-packages (from spacy<3.8.0,>=3.7.2->en-core-web-sm==3.7.1) (2.0.8)\n",
      "Requirement already satisfied: preshed<3.1.0,>=3.0.2 in c:\\users\\albbl\\documents\\studium\\11_semester\\appendix_code\\.venv\\lib\\site-packages (from spacy<3.8.0,>=3.7.2->en-core-web-sm==3.7.1) (3.0.9)\n",
      "Requirement already satisfied: thinc<8.3.0,>=8.2.2 in c:\\users\\albbl\\documents\\studium\\11_semester\\appendix_code\\.venv\\lib\\site-packages (from spacy<3.8.0,>=3.7.2->en-core-web-sm==3.7.1) (8.2.3)\n",
      "Requirement already satisfied: wasabi<1.2.0,>=0.9.1 in c:\\users\\albbl\\documents\\studium\\11_semester\\appendix_code\\.venv\\lib\\site-packages (from spacy<3.8.0,>=3.7.2->en-core-web-sm==3.7.1) (1.1.2)\n",
      "Requirement already satisfied: srsly<3.0.0,>=2.4.3 in c:\\users\\albbl\\documents\\studium\\11_semester\\appendix_code\\.venv\\lib\\site-packages (from spacy<3.8.0,>=3.7.2->en-core-web-sm==3.7.1) (2.4.8)\n",
      "Requirement already satisfied: catalogue<2.1.0,>=2.0.6 in c:\\users\\albbl\\documents\\studium\\11_semester\\appendix_code\\.venv\\lib\\site-packages (from spacy<3.8.0,>=3.7.2->en-core-web-sm==3.7.1) (2.0.10)\n",
      "Requirement already satisfied: weasel<0.4.0,>=0.1.0 in c:\\users\\albbl\\documents\\studium\\11_semester\\appendix_code\\.venv\\lib\\site-packages (from spacy<3.8.0,>=3.7.2->en-core-web-sm==3.7.1) (0.3.4)\n",
      "Requirement already satisfied: typer<0.10.0,>=0.3.0 in c:\\users\\albbl\\documents\\studium\\11_semester\\appendix_code\\.venv\\lib\\site-packages (from spacy<3.8.0,>=3.7.2->en-core-web-sm==3.7.1) (0.9.0)\n",
      "Requirement already satisfied: smart-open<7.0.0,>=5.2.1 in c:\\users\\albbl\\documents\\studium\\11_semester\\appendix_code\\.venv\\lib\\site-packages (from spacy<3.8.0,>=3.7.2->en-core-web-sm==3.7.1) (6.4.0)\n",
      "Requirement already satisfied: tqdm<5.0.0,>=4.38.0 in c:\\users\\albbl\\documents\\studium\\11_semester\\appendix_code\\.venv\\lib\\site-packages (from spacy<3.8.0,>=3.7.2->en-core-web-sm==3.7.1) (4.66.2)\n",
      "Requirement already satisfied: requests<3.0.0,>=2.13.0 in c:\\users\\albbl\\documents\\studium\\11_semester\\appendix_code\\.venv\\lib\\site-packages (from spacy<3.8.0,>=3.7.2->en-core-web-sm==3.7.1) (2.31.0)\n",
      "Requirement already satisfied: pydantic!=1.8,!=1.8.1,<3.0.0,>=1.7.4 in c:\\users\\albbl\\documents\\studium\\11_semester\\appendix_code\\.venv\\lib\\site-packages (from spacy<3.8.0,>=3.7.2->en-core-web-sm==3.7.1) (2.6.4)\n",
      "Requirement already satisfied: jinja2 in c:\\users\\albbl\\documents\\studium\\11_semester\\appendix_code\\.venv\\lib\\site-packages (from spacy<3.8.0,>=3.7.2->en-core-web-sm==3.7.1) (3.1.3)\n",
      "Requirement already satisfied: setuptools in c:\\users\\albbl\\documents\\studium\\11_semester\\appendix_code\\.venv\\lib\\site-packages (from spacy<3.8.0,>=3.7.2->en-core-web-sm==3.7.1) (69.2.0)\n",
      "Requirement already satisfied: packaging>=20.0 in c:\\users\\albbl\\documents\\studium\\11_semester\\appendix_code\\.venv\\lib\\site-packages (from spacy<3.8.0,>=3.7.2->en-core-web-sm==3.7.1) (24.0)\n",
      "Requirement already satisfied: langcodes<4.0.0,>=3.2.0 in c:\\users\\albbl\\documents\\studium\\11_semester\\appendix_code\\.venv\\lib\\site-packages (from spacy<3.8.0,>=3.7.2->en-core-web-sm==3.7.1) (3.3.0)\n",
      "Requirement already satisfied: numpy>=1.19.0 in c:\\users\\albbl\\documents\\studium\\11_semester\\appendix_code\\.venv\\lib\\site-packages (from spacy<3.8.0,>=3.7.2->en-core-web-sm==3.7.1) (1.26.4)\n",
      "Requirement already satisfied: annotated-types>=0.4.0 in c:\\users\\albbl\\documents\\studium\\11_semester\\appendix_code\\.venv\\lib\\site-packages (from pydantic!=1.8,!=1.8.1,<3.0.0,>=1.7.4->spacy<3.8.0,>=3.7.2->en-core-web-sm==3.7.1) (0.6.0)\n",
      "Requirement already satisfied: pydantic-core==2.16.3 in c:\\users\\albbl\\documents\\studium\\11_semester\\appendix_code\\.venv\\lib\\site-packages (from pydantic!=1.8,!=1.8.1,<3.0.0,>=1.7.4->spacy<3.8.0,>=3.7.2->en-core-web-sm==3.7.1) (2.16.3)\n",
      "Requirement already satisfied: typing-extensions>=4.6.1 in c:\\users\\albbl\\documents\\studium\\11_semester\\appendix_code\\.venv\\lib\\site-packages (from pydantic!=1.8,!=1.8.1,<3.0.0,>=1.7.4->spacy<3.8.0,>=3.7.2->en-core-web-sm==3.7.1) (4.10.0)\n",
      "Requirement already satisfied: charset-normalizer<4,>=2 in c:\\users\\albbl\\documents\\studium\\11_semester\\appendix_code\\.venv\\lib\\site-packages (from requests<3.0.0,>=2.13.0->spacy<3.8.0,>=3.7.2->en-core-web-sm==3.7.1) (3.3.2)\n",
      "Requirement already satisfied: idna<4,>=2.5 in c:\\users\\albbl\\documents\\studium\\11_semester\\appendix_code\\.venv\\lib\\site-packages (from requests<3.0.0,>=2.13.0->spacy<3.8.0,>=3.7.2->en-core-web-sm==3.7.1) (3.6)\n",
      "Requirement already satisfied: urllib3<3,>=1.21.1 in c:\\users\\albbl\\documents\\studium\\11_semester\\appendix_code\\.venv\\lib\\site-packages (from requests<3.0.0,>=2.13.0->spacy<3.8.0,>=3.7.2->en-core-web-sm==3.7.1) (2.2.1)\n",
      "Requirement already satisfied: certifi>=2017.4.17 in c:\\users\\albbl\\documents\\studium\\11_semester\\appendix_code\\.venv\\lib\\site-packages (from requests<3.0.0,>=2.13.0->spacy<3.8.0,>=3.7.2->en-core-web-sm==3.7.1) (2024.2.2)\n",
      "Requirement already satisfied: blis<0.8.0,>=0.7.8 in c:\\users\\albbl\\documents\\studium\\11_semester\\appendix_code\\.venv\\lib\\site-packages (from thinc<8.3.0,>=8.2.2->spacy<3.8.0,>=3.7.2->en-core-web-sm==3.7.1) (0.7.11)\n",
      "Requirement already satisfied: confection<1.0.0,>=0.0.1 in c:\\users\\albbl\\documents\\studium\\11_semester\\appendix_code\\.venv\\lib\\site-packages (from thinc<8.3.0,>=8.2.2->spacy<3.8.0,>=3.7.2->en-core-web-sm==3.7.1) (0.1.4)\n",
      "Requirement already satisfied: colorama in c:\\users\\albbl\\documents\\studium\\11_semester\\appendix_code\\.venv\\lib\\site-packages (from tqdm<5.0.0,>=4.38.0->spacy<3.8.0,>=3.7.2->en-core-web-sm==3.7.1) (0.4.6)\n",
      "Requirement already satisfied: click<9.0.0,>=7.1.1 in c:\\users\\albbl\\documents\\studium\\11_semester\\appendix_code\\.venv\\lib\\site-packages (from typer<0.10.0,>=0.3.0->spacy<3.8.0,>=3.7.2->en-core-web-sm==3.7.1) (8.1.7)\n",
      "Requirement already satisfied: cloudpathlib<0.17.0,>=0.7.0 in c:\\users\\albbl\\documents\\studium\\11_semester\\appendix_code\\.venv\\lib\\site-packages (from weasel<0.4.0,>=0.1.0->spacy<3.8.0,>=3.7.2->en-core-web-sm==3.7.1) (0.16.0)\n",
      "Requirement already satisfied: MarkupSafe>=2.0 in c:\\users\\albbl\\documents\\studium\\11_semester\\appendix_code\\.venv\\lib\\site-packages (from jinja2->spacy<3.8.0,>=3.7.2->en-core-web-sm==3.7.1) (2.1.5)\n",
      "\u001b[38;5;2m[+] Download and installation successful\u001b[0m\n",
      "You can now load the package via spacy.load('en_core_web_sm')\n"
     ]
    }
   ],
   "source": [
    "!python -m spacy download en_core_web_sm"
   ]
  },
  {
   "cell_type": "code",
   "execution_count": 18,
   "metadata": {},
   "outputs": [
    {
     "name": "stdout",
     "output_type": "stream",
     "text": [
      "==============================\n",
      "Model bert\n",
      "==============================\n",
      "Prediction: 1\n",
      "==============================\n",
      "Model roberta\n",
      "==============================\n",
      "Prediction: 1\n",
      "==============================\n",
      "Model deberta\n",
      "==============================\n",
      "Prediction: 1\n",
      "==============================\n",
      "Model bluebert\n",
      "==============================\n",
      "Prediction: 1\n",
      "==============================\n",
      "Model xlnet\n",
      "==============================\n",
      "Prediction: 1\n",
      "==============================\n",
      "Model svm\n",
      "==============================\n",
      "Prediction: 1\n"
     ]
    }
   ],
   "source": [
    "import spacy\n",
    "import numpy as np\n",
    "\n",
    "from Source_code.z_utils.data_preprocessing import preprocess_text\n",
    "from Source_code.z_utils.lemmatize import lemmatize\n",
    "from Source_code.z_utils.predict import predict\n",
    "\n",
    "\n",
    "text = \"SARS-CoV-2 Infection in a Hippopotamus, Hanoi, Vietnam. While investigating the death of a hippopotamus at a zoo in Hanoi, Vietnam, we isolated SARS-CoV-2 and sequenced the RNA-dependent RNA polymerase gene from different organs. Phylogenetic analysis showed that the SARS-CoV-2 strain was closely related to 3 human SARS-CoV-2 strains in Vietnam.\"\n",
    "text_pp = preprocess_text(text)\n",
    "\n",
    "for model_key in models.keys():\n",
    "    print(\"=\" * 30)\n",
    "    print(f'Model {model_key}')\n",
    "    print(\"=\" * 30)\n",
    "    \n",
    "    if model_key == \"svm\":\n",
    "        lemmatizer = spacy.load('en_core_web_sm')\n",
    "        text_prep = preprocess_text(text_pp, numbers=True)\n",
    "        text_lemm = lemmatize(lemmatizer, text_prep)\n",
    "        pred = models[model_key][0].predict(models[model_key][1].transform([text_lemm]))[0]\n",
    "    else:\n",
    "        model = models[model_key]\n",
    "        model.to(device)\n",
    "        model.eval()\n",
    "        pred, _ = predict(model, texts=[text_pp], device=device)\n",
    "        pred = np.argmax(pred[0])\n",
    "    \n",
    "    print(f\"Prediction: {pred}\")"
   ]
  }
 ],
 "metadata": {
  "kernelspec": {
   "display_name": ".venv",
   "language": "python",
   "name": ".venv"
  },
  "language_info": {
   "codemirror_mode": {
    "name": "ipython",
    "version": 3
   },
   "file_extension": ".py",
   "mimetype": "text/x-python",
   "name": "python",
   "nbconvert_exporter": "python",
   "pygments_lexer": "ipython3",
   "version": "3.11.6"
  }
 },
 "nbformat": 4,
 "nbformat_minor": 4
}
