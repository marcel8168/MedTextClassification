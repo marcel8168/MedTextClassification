{
 "cells": [
  {
   "cell_type": "markdown",
   "metadata": {},
   "source": [
    "# Analysis of the SVM's coefficients"
   ]
  },
  {
   "cell_type": "markdown",
   "metadata": {},
   "source": [
    "### Load SVM and vectorizer"
   ]
  },
  {
   "cell_type": "code",
   "execution_count": null,
   "metadata": {},
   "outputs": [],
   "source": [
    "import kaggle\n",
    "import os\n",
    "from sklearn.feature_extraction.text import TfidfVectorizer\n",
    "from sklearn.svm import LinearSVC\n",
    "import joblib\n",
    "\n",
    "\n",
    "kaggle.api.authenticate()\n",
    "data_path = \"./models/\"\n",
    "if not os.path.exists(data_path):\n",
    "    os.makedirs(data_path)\n",
    "    print(f\"Directory created: {data_path}\")\n",
    "\n",
    "slug = \"svm-linear-pubmed\"\n",
    "file_names = [\"svm.pkl\", \"vectorizer.pkl\"]\n",
    "kaggle.api.model_instance_version_download_cli(f\"marcelhiltner/{slug}/scikitlearn/{slug}/1\", data_path, untar=True)\n",
    "best_svm = joblib.load(f\"{data_path}{file_names[0]}\")\n",
    "print(\"svm loaded.\")\n",
    "vectorizer = joblib.load(f\"{data_path}{file_names[1]}\")\n",
    "print(\"vectorizer loaded.\")"
   ]
  },
  {
   "cell_type": "markdown",
   "metadata": {},
   "source": [
    "### Sort features according to the coefficient and plot most influential ones"
   ]
  },
  {
   "cell_type": "code",
   "execution_count": null,
   "metadata": {},
   "outputs": [],
   "source": [
    "import numpy as np\n",
    "import matplotlib.pyplot as plt\n",
    "\n",
    "feature_names = vectorizer.get_feature_names_out()\n",
    "coefficients = best_svm.coef_[0]\n",
    "feature_coefficients = zip(feature_names, coefficients)\n",
    "\n",
    "sorted_features = sorted(feature_coefficients, key=lambda x: abs(x[1]), reverse=True)\n",
    "\n",
    "top_features = sorted_features[:50]\n",
    "\n",
    "words = [word for word, _ in top_features]\n",
    "coeffs = [coeff for _, coeff in top_features]\n",
    "colors = ['tab:orange' if coeff > 0 else 'tab:blue' for coeff in coeffs]\n",
    "\n",
    "plt.figure(figsize=(10,7))\n",
    "plt.barh(words, coeffs, color=colors)\n",
    "plt.xlabel('Coefficient')\n",
    "plt.ylabel('N-Gram')\n",
    "plt.gca().invert_yaxis()\n",
    "\n",
    "blue_patch = plt.Rectangle((0, 0), 1, 1, fc=\"tab:blue\", edgecolor='none')\n",
    "orange_patch = plt.Rectangle((0, 0), 1, 1, fc=\"tab:orange\", edgecolor='none')\n",
    "plt.legend([blue_patch, orange_patch], ['Human Medicine', 'Veterinary Medicine'], loc='lower right')\n",
    "plt.savefig(f\"Top_Influential_Words_SVM.pdf\", format=\"pdf\", bbox_inches=\"tight\")\n",
    "plt.title('Top Influential Words')\n",
    "plt.show()\n",
    "plt.close()"
   ]
  }
 ],
 "metadata": {
  "kernelspec": {
   "display_name": "Python 3 (ipykernel)",
   "language": "python",
   "name": "python3"
  },
  "language_info": {
   "codemirror_mode": {
    "name": "ipython",
    "version": 3
   },
   "file_extension": ".py",
   "mimetype": "text/x-python",
   "name": "python",
   "nbconvert_exporter": "python",
   "pygments_lexer": "ipython3",
   "version": "3.11.6"
  }
 },
 "nbformat": 4,
 "nbformat_minor": 4
}
