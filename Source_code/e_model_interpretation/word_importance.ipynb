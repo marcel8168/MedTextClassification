{
 "cells": [
  {
   "cell_type": "markdown",
   "metadata": {},
   "source": [
    "# Analysis of word importance"
   ]
  },
  {
   "cell_type": "code",
   "execution_count": null,
   "metadata": {},
   "outputs": [],
   "source": [
    "import torch\n",
    "from torch import cuda\n",
    "\n",
    "\n",
    "device = 'cuda' if cuda.is_available() else 'cpu'\n",
    "device"
   ]
  },
  {
   "cell_type": "markdown",
   "metadata": {},
   "source": [
    "### Load models"
   ]
  },
  {
   "cell_type": "code",
   "execution_count": 2,
   "metadata": {},
   "outputs": [],
   "source": [
    "model_names = {\n",
    "    \"bert\":{\"slug\": \"bert-base-uncased-pubmed\", \"file_name\":\"bert-base-uncased.pt\"},\n",
    "    \"roberta\":{\"slug\": \"roberta-base-pubmed\", \"file_name\":\"roberta-base.pt\"},\n",
    "    \"deberta\":{\"slug\": \"deberta-base-pubmed\", \"file_name\":\"deberta-base.pt\"},\n",
    "    \"bluebert\":{\"slug\": \"bluebert-large-pubmed\", \"file_name\":\"bluebert_pubmed_uncased_L-24_H-1024_A-16.pt\"},\n",
    "    \"xlnet\":{\"slug\": \"xlnet-large-pubmed\", \"file_name\":\"xlnet-large-cased.pt\"},\n",
    "    \"svm\":{\"slug\":\"svm-linear-pubmed\", \"file_name\":[\"svm.pkl\", \"vectorizer.pkl\"]}\n",
    "}"
   ]
  },
  {
   "cell_type": "code",
   "execution_count": null,
   "metadata": {},
   "outputs": [],
   "source": [
    "import kaggle\n",
    "import os\n",
    "from sklearn.feature_extraction.text import TfidfVectorizer\n",
    "from sklearn.svm import LinearSVC\n",
    "import joblib\n",
    "\n",
    "from Source_code.z_utils.BERTClassifier import BERTClassifier\n",
    "from Source_code.z_utils.RoBERTaClassifier import RoBERTaClassifier\n",
    "from Source_code.z_utils.DeBERTaClassifier import DeBERTaClassifier\n",
    "from Source_code.z_utils.BlueBERTClassifier import BlueBERTClassifier\n",
    "from Source_code.z_utils.XLNetClassifier import XLNetClassifier\n",
    "\n",
    "\n",
    "kaggle.api.authenticate()\n",
    "data_path = \"./models/\"\n",
    "if not os.path.exists(data_path):\n",
    "    os.makedirs(data_path)\n",
    "    print(f\"Directory created: {data_path}\")\n",
    "models = {}\n",
    "\n",
    "for model in model_names.keys():\n",
    "    file_name = model_names[model][\"file_name\"]\n",
    "    target_path = f\"{data_path}{file_name}\"\n",
    "    \n",
    "    if not os.path.exists(target_path):\n",
    "        slug = model_names[model][\"slug\"]\n",
    "        if model == \"svm\":\n",
    "            kaggle.api.model_instance_version_download_cli(f\"marcelhiltner/{slug}/scikitlearn/{slug}/1\", data_path, untar=True)\n",
    "        else:\n",
    "            kaggle.api.model_instance_version_download_cli(f\"marcelhiltner/{slug}/pytorch/{slug}/1\", data_path, untar=True)\n",
    "        \n",
    "    if model == \"svm\":\n",
    "        svm = joblib.load(f\"{data_path}{file_name[0]}\")\n",
    "        print(\"svm loaded.\")\n",
    "        vectorizer = joblib.load(f\"{data_path}{file_name[1]}\")\n",
    "        print(\"vectorizer loaded.\")\n",
    "        models[model] = (svm, vectorizer)\n",
    "    else:\n",
    "        models[model] = torch.load(target_path)\n",
    "        models[model].eval()\n",
    "        print(f\"{model} loaded.\")"
   ]
  },
  {
   "cell_type": "code",
   "execution_count": null,
   "metadata": {},
   "outputs": [],
   "source": [
    "!python -m spacy download en_core_web_sm"
   ]
  },
  {
   "cell_type": "markdown",
   "metadata": {},
   "source": [
    "### Define prediction functions aligned to LIME functionality"
   ]
  },
  {
   "cell_type": "code",
   "execution_count": 5,
   "metadata": {},
   "outputs": [],
   "source": [
    "import spacy\n",
    "import numpy as np\n",
    "import torch.nn.functional as F\n",
    "\n",
    "from Source_code.z_utils.global_constants import MAX_LEN\n",
    "\n",
    "\n",
    "def predict_proba_plm(texts):\n",
    "    \"\"\"\n",
    "    Predicts class probabilities for the given texts using PLM classifier.\n",
    "\n",
    "    Args:\n",
    "        texts (array-like): List or array containing text data.\n",
    "\n",
    "    Returns:\n",
    "        array: Array of predicted class probabilities.\n",
    "    \"\"\"\n",
    "    predictions = []\n",
    "    \n",
    "    for data in texts:\n",
    "        text = str(data)\n",
    "\n",
    "        inputs = model.tokenizer.encode_plus(\n",
    "            text,\n",
    "            None,\n",
    "            add_special_tokens=True,\n",
    "            max_length=MAX_LEN,\n",
    "            truncation=True,\n",
    "            padding=\"max_length\",\n",
    "            return_tensors=\"pt\",\n",
    "            return_token_type_ids=True\n",
    "        )\n",
    "        with torch.no_grad():\n",
    "            logits = model(**inputs.to(device))\n",
    "\n",
    "        probabilities = F.softmax(\n",
    "            logits.squeeze(), -1).cpu().detach().numpy().tolist()\n",
    "        predictions.append(probabilities)\n",
    "        \n",
    "    return np.array(predictions)"
   ]
  },
  {
   "cell_type": "code",
   "execution_count": 6,
   "metadata": {},
   "outputs": [],
   "source": [
    "def predict_proba_svm(texts):\n",
    "    \"\"\"\n",
    "    Predicts class probabilities for the given texts using SVM classifier.\n",
    "\n",
    "    Args:\n",
    "        texts (array-like): List or array containing text data.\n",
    "\n",
    "    Returns:\n",
    "        array: Array of predicted class probabilities.\n",
    "    \"\"\"\n",
    "    vectorized_texts = vectorizer.transform(texts)\n",
    "    decision = svm.decision_function(vectorized_texts)\n",
    "    reshaped_decision = np.array(decision).reshape(-1, 1)\n",
    "\n",
    "    return reshaped_decision"
   ]
  },
  {
   "cell_type": "markdown",
   "metadata": {},
   "source": [
    "### Interpret models"
   ]
  },
  {
   "cell_type": "code",
   "execution_count": null,
   "metadata": {},
   "outputs": [],
   "source": [
    "import lime\n",
    "import lime.lime_text\n",
    "\n",
    "from Source_code.z_utils.data_preprocessing import preprocess_text\n",
    "from Source_code.z_utils.global_constants import LABELS_MAP, RANDOM_SEED\n",
    "from Source_code.z_utils.lemmatize import lemmatize\n",
    "\n",
    "\n",
    "class_names = LABELS_MAP.keys()\n",
    "explainer = lime.lime_text.LimeTextExplainer(class_names=class_names, random_state=RANDOM_SEED, verbose=True)\n",
    "text = ''\n",
    "text_prep = preprocess_text(text)\n",
    "\n",
    "for model_key in models.keys():\n",
    "    model = models[model_key]\n",
    "    \n",
    "    print(\"=\" * 30)\n",
    "    print(f'Model {model_key}')\n",
    "    print(\"=\" * 30)\n",
    "    \n",
    "    if model_key == \"svm\":\n",
    "        lemmatizer = spacy.load('en_core_web_sm')\n",
    "        proc_text = preprocess_text(text_prep, numbers=True)\n",
    "        lemm_text = lemmatize(lemmatizer, proc_text)\n",
    "        exp = explainer.explain_instance(lemm_text, predict_proba_svm, labels=(0,), num_features=25, num_samples=500)\n",
    "        exp.save_to_file(f\"interpretation_svm.html\")\n",
    "    else:\n",
    "        model.to(device)\n",
    "        model.eval()\n",
    "        exp = explainer.explain_instance(text_prep, predict_proba_plm, num_features=25, num_samples=500)\n",
    "        exp.save_to_file(f\"interpretation_{model.checkpoint[model.checkpoint.find('/')+1:]}.html\")\n",
    "    \n",
    "    exp.show_in_notebook(text=text_prep)\n",
    "    "
   ]
  }
 ],
 "metadata": {
  "kernelspec": {
   "display_name": "venv",
   "language": "python",
   "name": "python3"
  },
  "language_info": {
   "codemirror_mode": {
    "name": "ipython",
    "version": 3
   },
   "file_extension": ".py",
   "mimetype": "text/x-python",
   "name": "python",
   "nbconvert_exporter": "python",
   "pygments_lexer": "ipython3",
   "version": "3.11.6"
  }
 },
 "nbformat": 4,
 "nbformat_minor": 4
}
