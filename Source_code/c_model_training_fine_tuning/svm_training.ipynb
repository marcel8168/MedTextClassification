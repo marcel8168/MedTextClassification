{
 "cells": [
  {
   "cell_type": "markdown",
   "metadata": {},
   "source": [
    "# SVM training"
   ]
  },
  {
   "cell_type": "code",
   "execution_count": 1,
   "metadata": {},
   "outputs": [
    {
     "data": {
      "text/plain": [
       "'cuda'"
      ]
     },
     "execution_count": 1,
     "metadata": {},
     "output_type": "execute_result"
    }
   ],
   "source": [
    "from torch import cuda\n",
    "\n",
    "\n",
    "device = 'cuda' if cuda.is_available() else 'cpu'\n",
    "device"
   ]
  },
  {
   "cell_type": "markdown",
   "metadata": {},
   "source": [
    "### Load data, SVM and vectorizer "
   ]
  },
  {
   "cell_type": "code",
   "execution_count": 2,
   "metadata": {},
   "outputs": [
    {
     "name": "stdout",
     "output_type": "stream",
     "text": [
      "Directory created: ./corpus/\n",
      "['test.json', 'train.json', 'valid.json']\n"
     ]
    }
   ],
   "source": [
    "import kaggle\n",
    "import os\n",
    "\n",
    "\n",
    "kaggle.api.authenticate()\n",
    "data_path = \"./corpus/\"\n",
    "if not os.path.exists(data_path):\n",
    "    os.makedirs(data_path)\n",
    "    print(f\"Directory created: {data_path}\")\n",
    "    \n",
    "kaggle.api.dataset_download_files('marcelhiltner/pubmed-human-veterinary-medicine-classification', path=data_path, unzip=True)\n",
    "print(os.listdir(data_path))"
   ]
  },
  {
   "cell_type": "code",
   "execution_count": 11,
   "metadata": {},
   "outputs": [
    {
     "name": "stdout",
     "output_type": "stream",
     "text": [
      "Collecting en-core-web-sm==3.7.1\n",
      "  Downloading https://github.com/explosion/spacy-models/releases/download/en_core_web_sm-3.7.1/en_core_web_sm-3.7.1-py3-none-any.whl (12.8 MB)\n",
      "     ---------------------------------------- 0.0/12.8 MB ? eta -:--:--\n",
      "     ---------------------------------------- 0.0/12.8 MB ? eta -:--:--\n",
      "     --------------------------------------- 0.0/12.8 MB 325.1 kB/s eta 0:00:40\n",
      "     ---------------------------------------- 0.1/12.8 MB 1.1 MB/s eta 0:00:12\n",
      "     - -------------------------------------- 0.5/12.8 MB 2.7 MB/s eta 0:00:05\n",
      "     --- ------------------------------------ 1.0/12.8 MB 4.5 MB/s eta 0:00:03\n",
      "     ----- ---------------------------------- 1.8/12.8 MB 6.9 MB/s eta 0:00:02\n",
      "     ------ --------------------------------- 2.0/12.8 MB 6.4 MB/s eta 0:00:02\n",
      "     ------- -------------------------------- 2.5/12.8 MB 7.2 MB/s eta 0:00:02\n",
      "     ---------- ----------------------------- 3.2/12.8 MB 7.9 MB/s eta 0:00:02\n",
      "     ------------- -------------------------- 4.2/12.8 MB 9.9 MB/s eta 0:00:01\n",
      "     --------------- ------------------------ 5.0/12.8 MB 10.4 MB/s eta 0:00:01\n",
      "     ----------------- ---------------------- 5.4/12.8 MB 10.2 MB/s eta 0:00:01\n",
      "     -------------------- ------------------- 6.5/12.8 MB 11.2 MB/s eta 0:00:01\n",
      "     ---------------------- ----------------- 7.1/12.8 MB 11.3 MB/s eta 0:00:01\n",
      "     ----------------------- ---------------- 7.4/12.8 MB 11.1 MB/s eta 0:00:01\n",
      "     -------------------------- ------------- 8.6/12.8 MB 11.9 MB/s eta 0:00:01\n",
      "     ----------------------------- ---------- 9.3/12.8 MB 12.1 MB/s eta 0:00:01\n",
      "     ----------------------------- ---------- 9.5/12.8 MB 11.9 MB/s eta 0:00:01\n",
      "     ------------------------------ --------- 9.9/12.8 MB 11.5 MB/s eta 0:00:01\n",
      "     ------------------------------ -------- 10.1/12.8 MB 11.3 MB/s eta 0:00:01\n",
      "     -------------------------------- ------ 10.6/12.8 MB 13.4 MB/s eta 0:00:01\n",
      "     --------------------------------- ----- 10.9/12.8 MB 13.1 MB/s eta 0:00:01\n",
      "     ----------------------------------- --- 11.5/12.8 MB 12.8 MB/s eta 0:00:01\n",
      "     ------------------------------------- - 12.2/12.8 MB 13.1 MB/s eta 0:00:01\n",
      "     --------------------------------------  12.8/12.8 MB 13.1 MB/s eta 0:00:01\n",
      "     --------------------------------------  12.8/12.8 MB 13.1 MB/s eta 0:00:01\n",
      "     --------------------------------------  12.8/12.8 MB 13.1 MB/s eta 0:00:01\n",
      "     --------------------------------------- 12.8/12.8 MB 11.1 MB/s eta 0:00:00\n",
      "Requirement already satisfied: spacy<3.8.0,>=3.7.2 in c:\\users\\albbl\\documents\\studium\\11_semester\\appendix_code\\.venv\\lib\\site-packages (from en-core-web-sm==3.7.1) (3.7.4)\n",
      "Requirement already satisfied: spacy-legacy<3.1.0,>=3.0.11 in c:\\users\\albbl\\documents\\studium\\11_semester\\appendix_code\\.venv\\lib\\site-packages (from spacy<3.8.0,>=3.7.2->en-core-web-sm==3.7.1) (3.0.12)\n",
      "Requirement already satisfied: spacy-loggers<2.0.0,>=1.0.0 in c:\\users\\albbl\\documents\\studium\\11_semester\\appendix_code\\.venv\\lib\\site-packages (from spacy<3.8.0,>=3.7.2->en-core-web-sm==3.7.1) (1.0.5)\n",
      "Requirement already satisfied: murmurhash<1.1.0,>=0.28.0 in c:\\users\\albbl\\documents\\studium\\11_semester\\appendix_code\\.venv\\lib\\site-packages (from spacy<3.8.0,>=3.7.2->en-core-web-sm==3.7.1) (1.0.10)\n",
      "Requirement already satisfied: cymem<2.1.0,>=2.0.2 in c:\\users\\albbl\\documents\\studium\\11_semester\\appendix_code\\.venv\\lib\\site-packages (from spacy<3.8.0,>=3.7.2->en-core-web-sm==3.7.1) (2.0.8)\n",
      "Requirement already satisfied: preshed<3.1.0,>=3.0.2 in c:\\users\\albbl\\documents\\studium\\11_semester\\appendix_code\\.venv\\lib\\site-packages (from spacy<3.8.0,>=3.7.2->en-core-web-sm==3.7.1) (3.0.9)\n",
      "Requirement already satisfied: thinc<8.3.0,>=8.2.2 in c:\\users\\albbl\\documents\\studium\\11_semester\\appendix_code\\.venv\\lib\\site-packages (from spacy<3.8.0,>=3.7.2->en-core-web-sm==3.7.1) (8.2.3)\n",
      "Requirement already satisfied: wasabi<1.2.0,>=0.9.1 in c:\\users\\albbl\\documents\\studium\\11_semester\\appendix_code\\.venv\\lib\\site-packages (from spacy<3.8.0,>=3.7.2->en-core-web-sm==3.7.1) (1.1.2)\n",
      "Requirement already satisfied: srsly<3.0.0,>=2.4.3 in c:\\users\\albbl\\documents\\studium\\11_semester\\appendix_code\\.venv\\lib\\site-packages (from spacy<3.8.0,>=3.7.2->en-core-web-sm==3.7.1) (2.4.8)\n",
      "Requirement already satisfied: catalogue<2.1.0,>=2.0.6 in c:\\users\\albbl\\documents\\studium\\11_semester\\appendix_code\\.venv\\lib\\site-packages (from spacy<3.8.0,>=3.7.2->en-core-web-sm==3.7.1) (2.0.10)\n",
      "Requirement already satisfied: weasel<0.4.0,>=0.1.0 in c:\\users\\albbl\\documents\\studium\\11_semester\\appendix_code\\.venv\\lib\\site-packages (from spacy<3.8.0,>=3.7.2->en-core-web-sm==3.7.1) (0.3.4)\n",
      "Requirement already satisfied: typer<0.10.0,>=0.3.0 in c:\\users\\albbl\\documents\\studium\\11_semester\\appendix_code\\.venv\\lib\\site-packages (from spacy<3.8.0,>=3.7.2->en-core-web-sm==3.7.1) (0.9.0)\n",
      "Requirement already satisfied: smart-open<7.0.0,>=5.2.1 in c:\\users\\albbl\\documents\\studium\\11_semester\\appendix_code\\.venv\\lib\\site-packages (from spacy<3.8.0,>=3.7.2->en-core-web-sm==3.7.1) (6.4.0)\n",
      "Requirement already satisfied: tqdm<5.0.0,>=4.38.0 in c:\\users\\albbl\\documents\\studium\\11_semester\\appendix_code\\.venv\\lib\\site-packages (from spacy<3.8.0,>=3.7.2->en-core-web-sm==3.7.1) (4.66.2)\n",
      "Requirement already satisfied: requests<3.0.0,>=2.13.0 in c:\\users\\albbl\\documents\\studium\\11_semester\\appendix_code\\.venv\\lib\\site-packages (from spacy<3.8.0,>=3.7.2->en-core-web-sm==3.7.1) (2.31.0)\n",
      "Requirement already satisfied: pydantic!=1.8,!=1.8.1,<3.0.0,>=1.7.4 in c:\\users\\albbl\\documents\\studium\\11_semester\\appendix_code\\.venv\\lib\\site-packages (from spacy<3.8.0,>=3.7.2->en-core-web-sm==3.7.1) (2.6.4)\n",
      "Requirement already satisfied: jinja2 in c:\\users\\albbl\\documents\\studium\\11_semester\\appendix_code\\.venv\\lib\\site-packages (from spacy<3.8.0,>=3.7.2->en-core-web-sm==3.7.1) (3.1.3)\n",
      "Requirement already satisfied: setuptools in c:\\users\\albbl\\documents\\studium\\11_semester\\appendix_code\\.venv\\lib\\site-packages (from spacy<3.8.0,>=3.7.2->en-core-web-sm==3.7.1) (69.2.0)\n",
      "Requirement already satisfied: packaging>=20.0 in c:\\users\\albbl\\documents\\studium\\11_semester\\appendix_code\\.venv\\lib\\site-packages (from spacy<3.8.0,>=3.7.2->en-core-web-sm==3.7.1) (24.0)\n",
      "Requirement already satisfied: langcodes<4.0.0,>=3.2.0 in c:\\users\\albbl\\documents\\studium\\11_semester\\appendix_code\\.venv\\lib\\site-packages (from spacy<3.8.0,>=3.7.2->en-core-web-sm==3.7.1) (3.3.0)\n",
      "Requirement already satisfied: numpy>=1.19.0 in c:\\users\\albbl\\documents\\studium\\11_semester\\appendix_code\\.venv\\lib\\site-packages (from spacy<3.8.0,>=3.7.2->en-core-web-sm==3.7.1) (1.26.4)\n",
      "Requirement already satisfied: annotated-types>=0.4.0 in c:\\users\\albbl\\documents\\studium\\11_semester\\appendix_code\\.venv\\lib\\site-packages (from pydantic!=1.8,!=1.8.1,<3.0.0,>=1.7.4->spacy<3.8.0,>=3.7.2->en-core-web-sm==3.7.1) (0.6.0)\n",
      "Requirement already satisfied: pydantic-core==2.16.3 in c:\\users\\albbl\\documents\\studium\\11_semester\\appendix_code\\.venv\\lib\\site-packages (from pydantic!=1.8,!=1.8.1,<3.0.0,>=1.7.4->spacy<3.8.0,>=3.7.2->en-core-web-sm==3.7.1) (2.16.3)\n",
      "Requirement already satisfied: typing-extensions>=4.6.1 in c:\\users\\albbl\\documents\\studium\\11_semester\\appendix_code\\.venv\\lib\\site-packages (from pydantic!=1.8,!=1.8.1,<3.0.0,>=1.7.4->spacy<3.8.0,>=3.7.2->en-core-web-sm==3.7.1) (4.10.0)\n",
      "Requirement already satisfied: charset-normalizer<4,>=2 in c:\\users\\albbl\\documents\\studium\\11_semester\\appendix_code\\.venv\\lib\\site-packages (from requests<3.0.0,>=2.13.0->spacy<3.8.0,>=3.7.2->en-core-web-sm==3.7.1) (3.3.2)\n",
      "Requirement already satisfied: idna<4,>=2.5 in c:\\users\\albbl\\documents\\studium\\11_semester\\appendix_code\\.venv\\lib\\site-packages (from requests<3.0.0,>=2.13.0->spacy<3.8.0,>=3.7.2->en-core-web-sm==3.7.1) (3.6)\n",
      "Requirement already satisfied: urllib3<3,>=1.21.1 in c:\\users\\albbl\\documents\\studium\\11_semester\\appendix_code\\.venv\\lib\\site-packages (from requests<3.0.0,>=2.13.0->spacy<3.8.0,>=3.7.2->en-core-web-sm==3.7.1) (2.2.1)\n",
      "Requirement already satisfied: certifi>=2017.4.17 in c:\\users\\albbl\\documents\\studium\\11_semester\\appendix_code\\.venv\\lib\\site-packages (from requests<3.0.0,>=2.13.0->spacy<3.8.0,>=3.7.2->en-core-web-sm==3.7.1) (2024.2.2)\n",
      "Requirement already satisfied: blis<0.8.0,>=0.7.8 in c:\\users\\albbl\\documents\\studium\\11_semester\\appendix_code\\.venv\\lib\\site-packages (from thinc<8.3.0,>=8.2.2->spacy<3.8.0,>=3.7.2->en-core-web-sm==3.7.1) (0.7.11)\n",
      "Requirement already satisfied: confection<1.0.0,>=0.0.1 in c:\\users\\albbl\\documents\\studium\\11_semester\\appendix_code\\.venv\\lib\\site-packages (from thinc<8.3.0,>=8.2.2->spacy<3.8.0,>=3.7.2->en-core-web-sm==3.7.1) (0.1.4)\n",
      "Requirement already satisfied: colorama in c:\\users\\albbl\\documents\\studium\\11_semester\\appendix_code\\.venv\\lib\\site-packages (from tqdm<5.0.0,>=4.38.0->spacy<3.8.0,>=3.7.2->en-core-web-sm==3.7.1) (0.4.6)\n",
      "Requirement already satisfied: click<9.0.0,>=7.1.1 in c:\\users\\albbl\\documents\\studium\\11_semester\\appendix_code\\.venv\\lib\\site-packages (from typer<0.10.0,>=0.3.0->spacy<3.8.0,>=3.7.2->en-core-web-sm==3.7.1) (8.1.7)\n",
      "Requirement already satisfied: cloudpathlib<0.17.0,>=0.7.0 in c:\\users\\albbl\\documents\\studium\\11_semester\\appendix_code\\.venv\\lib\\site-packages (from weasel<0.4.0,>=0.1.0->spacy<3.8.0,>=3.7.2->en-core-web-sm==3.7.1) (0.16.0)\n",
      "Requirement already satisfied: MarkupSafe>=2.0 in c:\\users\\albbl\\documents\\studium\\11_semester\\appendix_code\\.venv\\lib\\site-packages (from jinja2->spacy<3.8.0,>=3.7.2->en-core-web-sm==3.7.1) (2.1.5)\n",
      "Installing collected packages: en-core-web-sm\n",
      "Successfully installed en-core-web-sm-3.7.1\n",
      "\u001b[38;5;2m[+] Download and installation successful\u001b[0m\n",
      "You can now load the package via spacy.load('en_core_web_sm')\n"
     ]
    }
   ],
   "source": [
    "!python -m spacy download en_core_web_sm"
   ]
  },
  {
   "cell_type": "code",
   "execution_count": null,
   "metadata": {},
   "outputs": [],
   "source": [
    "import pandas as pd\n",
    "import re\n",
    "import spacy\n",
    "\n",
    "from Source_code.z_utils.lemmatize import lemmatize\n",
    "\n",
    "\n",
    "try:\n",
    "    lemmatizer = spacy.load('en_core_web_sm')\n",
    "    \n",
    "    train_set = pd.read_json(f\"{data_path}train.json\", orient=\"records\")\n",
    "    train_set[\"title_abstract\"] = train_set[\"title_abstract\"].apply(lambda x: re.sub(r'\\d', '', x))\n",
    "    train_set[\"title_abstract\"] = train_set[\"title_abstract\"].apply(lambda x: lemmatize(lemmatizer, x))\n",
    "    print(\"Data loaded successfully: train.json\")\n",
    "    print(f\"Shape: {train_set.shape}\")\n",
    "    \n",
    "    val_set = pd.read_json(f\"{data_path}valid.json\", orient=\"records\")\n",
    "    val_set[\"title_abstract\"] = val_set[\"title_abstract\"].apply(lambda x: re.sub(r'\\d', '', x))\n",
    "    val_set[\"title_abstract\"] = val_set[\"title_abstract\"].apply(lambda x: lemmatize(lemmatizer, x))\n",
    "    print(\"Data loaded successfully: valid.json\")\n",
    "    print(f\"Shape: {val_set.shape}\")\n",
    "except Exception as e:\n",
    "    print(f\"An error occurred: {e}\")"
   ]
  },
  {
   "cell_type": "markdown",
   "metadata": {},
   "source": [
    "### Extract features"
   ]
  },
  {
   "cell_type": "code",
   "execution_count": 18,
   "metadata": {},
   "outputs": [],
   "source": [
    "from sklearn.feature_extraction.text import TfidfVectorizer\n",
    "import joblib\n",
    "\n",
    "from Source_code.z_utils.global_constants import *\n",
    "\n",
    "\n",
    "vectorizer = TfidfVectorizer(\n",
    "                ngram_range=(1, 3),\n",
    "                strip_accents=\"ascii\",\n",
    "                lowercase=True,\n",
    "                max_features=38000,\n",
    "                )\n",
    "\n",
    "train_x = vectorizer.fit_transform(train_set[\"title_abstract\"])\n",
    "train_y = train_set[\"labels\"]\n",
    "\n",
    "if not os.path.exists(PATH_SAVED_MODELS):\n",
    "    os.makedirs(PATH_SAVED_MODELS)\n",
    "joblib.dump(vectorizer, f\"{PATH_SAVED_MODELS}{vectorizer}.pkl\")\n",
    "\n",
    "val_x = vectorizer.transform(val_set[\"title_abstract\"])\n",
    "val_y = val_set[\"labels\"]\n",
    "test_x = vectorizer.transform(test_set[\"title_abstract\"])\n",
    "test_y = test_set[\"labels\"]"
   ]
  },
  {
   "cell_type": "markdown",
   "metadata": {},
   "source": [
    "### Train"
   ]
  },
  {
   "cell_type": "code",
   "execution_count": null,
   "metadata": {},
   "outputs": [],
   "source": [
    "from sklearn.svm import LinearSVC\n",
    "from sklearn.model_selection import GridSearchCV\n",
    "import joblib\n",
    "import time\n",
    "import datetime\n",
    "import json\n",
    "\n",
    "from Source_code.z_utils.global_constants import *\n",
    "\n",
    "MODEL_CHECKPOINT = \"svm\"\n",
    "\n",
    "time0 = time.monotonic_ns()\n",
    "\n",
    "param_grid = {'C': [0.001, 0.01, 0.1, 1, 10, 100, 1000]}\n",
    "\n",
    "svm = LinearSVC(random_state=RANDOM_SEED, dual=False, max_iter=1000)\n",
    "\n",
    "grid_search = GridSearchCV(svm, param_grid, cv=10, scoring='accuracy', verbose=4, return_train_score=True)\n",
    "result = grid_search.fit(train_x, train_y)\n",
    "best_svm = result.best_estimator_\n",
    "\n",
    "if not os.path.exists(PATH_SAVED_MODELS):\n",
    "    os.makedirs(PATH_SAVED_MODELS)\n",
    "joblib.dump(best_svm, f\"{PATH_SAVED_MODELS}{MODEL_CHECKPOINT}.pkl\")\n",
    "\n",
    "elapsed_time = datetime.timedelta(microseconds=(time.monotonic_ns() - time0)/1000)\n",
    "\n",
    "if not os.path.exists(PATH_SAVED_METRICS):\n",
    "    os.makedirs(PATH_SAVED_METRICS)\n",
    "with open(f\"{PATH_SAVED_METRICS}run_times_{MODEL_CHECKPOINT}.json\", \"w\") as outfile:\n",
    "    json.dump({\"total_time\": str(elapsed_time), \"refit_time\": result.refit_time_}, outfile)\n",
    "pd.DataFrame(result.cv_results_).to_json(f\"{PATH_SAVED_METRICS}cv_results_{MODEL_CHECKPOINT}.json\")\n",
    "with open(f\"{PATH_SAVED_METRICS}best_values_{MODEL_CHECKPOINT}.json\", \"w\") as outfile:\n",
    "    json.dump({\"best_acc\": result.best_score_, \"best_params\": result.best_params_}, outfile)"
   ]
  },
  {
   "cell_type": "markdown",
   "metadata": {},
   "source": [
    "### Plot accuracy of training and validation depending on C"
   ]
  },
  {
   "cell_type": "code",
   "execution_count": null,
   "metadata": {},
   "outputs": [],
   "source": [
    "import matplotlib.pyplot as plt\n",
    "\n",
    "\n",
    "param_C_values = [param['C'] for param in result.cv_results_[\"params\"]]\n",
    "split_train_scores = [result.cv_results_[f\"split{i}_train_score\"] for i in range(10)]\n",
    "\n",
    "for i, split_train_score in enumerate(split_train_scores):\n",
    "    plt.plot(param_C_values, split_train_score, label=f\"Split {i + 1}\")\n",
    "\n",
    "mean_train_scores = result.cv_results_[\"mean_train_score\"]\n",
    "plt.plot(param_C_values, mean_train_scores, marker=\"o\", linestyle=\"-\", color=\"black\", label=\"Mean Train Score\")\n",
    "\n",
    "best_c = result.best_params_[\"C\"]\n",
    "plt.scatter(best_c, mean_train_scores[result.best_index_], color=\"red\", label=f\"Best C = {best_c}\", zorder=5)\n",
    "\n",
    "plt.xlabel(\"C\")\n",
    "plt.ylabel(\"Accuracy\")\n",
    "plt.xscale(\"log\")\n",
    "plt.legend()\n",
    "plt.savefig(f\"Train_Accuracy_for_Different_C_Values_{MODEL_CHECKPOINT}.pdf\", format=\"pdf\", bbox_inches=\"tight\")\n",
    "plt.title(\"Train Accuracy for Different C Values\")\n",
    "plt.show()\n",
    "plt.close()"
   ]
  },
  {
   "cell_type": "code",
   "execution_count": null,
   "metadata": {},
   "outputs": [],
   "source": [
    "split_test_scores = [result.cv_results_[f\"split{i}_test_score\"] for i in range(10)]\n",
    "\n",
    "for i, split_test_score in enumerate(split_test_scores):\n",
    "    plt.plot(param_C_values, split_test_score, label=f\"Split {i + 1}\")\n",
    "\n",
    "mean_test_scores = result.cv_results_[\"mean_test_score\"]\n",
    "plt.plot(param_C_values, mean_test_scores, marker=\"o\", linestyle=\"-\", color=\"black\", label=\"Mean Test Score\")\n",
    "\n",
    "plt.scatter(best_c, mean_test_scores[result.best_index_], color=\"red\", label=f\"Best C = {best_c}\", zorder=5)\n",
    "\n",
    "plt.xlabel(\"C\")\n",
    "plt.ylabel(\"Accuracy\")\n",
    "plt.xscale(\"log\")\n",
    "plt.legend()\n",
    "plt.savefig(f\"Validation_Accuracy_for_Different_C_Values_{MODEL_CHECKPOINT}.pdf\", format=\"pdf\", bbox_inches=\"tight\")\n",
    "plt.title(\"Test Accuracy for Different C Values\")\n",
    "plt.show()\n",
    "plt.close()"
   ]
  }
 ],
 "metadata": {
  "kernelspec": {
   "display_name": "Python 3 (ipykernel)",
   "language": "python",
   "name": "python3"
  },
  "language_info": {
   "codemirror_mode": {
    "name": "ipython",
    "version": 3
   },
   "file_extension": ".py",
   "mimetype": "text/x-python",
   "name": "python",
   "nbconvert_exporter": "python",
   "pygments_lexer": "ipython3",
   "version": "3.11.6"
  }
 },
 "nbformat": 4,
 "nbformat_minor": 4
}
