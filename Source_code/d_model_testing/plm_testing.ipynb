{
 "cells": [
  {
   "cell_type": "markdown",
   "metadata": {},
   "source": [
    "# PLM testing"
   ]
  },
  {
   "cell_type": "code",
   "execution_count": null,
   "metadata": {},
   "outputs": [],
   "source": [
    "import torch\n",
    "from torch import cuda\n",
    "\n",
    "\n",
    "device = 'cuda' if cuda.is_available() else 'cpu'\n",
    "device"
   ]
  },
  {
   "cell_type": "markdown",
   "metadata": {},
   "source": [
    "### Load models and test set"
   ]
  },
  {
   "cell_type": "code",
   "execution_count": null,
   "metadata": {},
   "outputs": [],
   "source": [
    "model_names = {\n",
    "    \"bert\":{\"slug\": \"bert-base-uncased-pubmed\", \"file_name\":\"bert-base-uncased.pt\"},\n",
    "    \"roberta\":{\"slug\": \"roberta-base-pubmed\", \"file_name\":\"roberta-base.pt\"},\n",
    "    \"deberta\":{\"slug\": \"deberta-base-pubmed\", \"file_name\":\"deberta-base.pt\"},\n",
    "    \"bluebert\":{\"slug\": \"bluebert-large-pubmed\", \"file_name\":\"bluebert_pubmed_uncased_L-24_H-1024_A-16.pt\"},\n",
    "    \"xlnet\":{\"slug\": \"xlnet-large-pubmed\", \"file_name\":\"xlnet-large-cased.pt\"}\n",
    "}"
   ]
  },
  {
   "cell_type": "code",
   "execution_count": null,
   "metadata": {},
   "outputs": [],
   "source": [
    "import kaggle\n",
    "import os\n",
    "\n",
    "from Source_code.z_utils.BERTClassifier import BERTClassifier\n",
    "from Source_code.z_utils.RoBERTaClassifier import RoBERTaClassifier\n",
    "from Source_code.z_utils.DeBERTaClassifier import DeBERTaClassifier\n",
    "from Source_code.z_utils.BlueBERTClassifier import BlueBERTClassifier\n",
    "from Source_code.z_utils.XLNetClassifier import XLNetClassifier\n",
    "\n",
    "\n",
    "kaggle.api.authenticate()\n",
    "data_path = \"./models/\"\n",
    "if not os.path.exists(data_path):\n",
    "    os.makedirs(data_path)\n",
    "    print(f\"Directory created: {data_path}\")\n",
    "models = {}\n",
    "\n",
    "for model in model_names.keys():\n",
    "    file_name = model_names[model][\"file_name\"]\n",
    "    target_path = f\"{data_path}{file_name}\"\n",
    "    \n",
    "    if not os.path.exists(target_path):\n",
    "        slug = model_names[model][\"slug\"]\n",
    "        kaggle.api.model_instance_version_download_cli(f\"marcelhiltner/{slug}/pytorch/{slug}/1\", data_path, untar=True)\n",
    "        \n",
    "    models[model] = torch.load(target_path)\n",
    "    models[model].eval()\n",
    "    print(f\"{model} loaded.\")"
   ]
  },
  {
   "cell_type": "code",
   "execution_count": null,
   "metadata": {},
   "outputs": [],
   "source": [
    "import kaggle\n",
    "import os\n",
    "import zipfile\n",
    "\n",
    "\n",
    "kaggle.api.authenticate()\n",
    "data_path = \"./datasets/\"\n",
    "if not os.path.exists(data_path):\n",
    "    os.makedirs(data_path)\n",
    "    print(f\"Directory created: {data_path}\")\n",
    "    \n",
    "kaggle.api.dataset_download_file('marcelhiltner/pubmed-human-veterinary-medicine-classification', file_name=\"test.json\", path=data_path)\n",
    "zip_path = f\"{data_path}test.json.zip\"\n",
    "with zipfile.ZipFile(zip_path, \"r\") as z:\n",
    "    z.extractall(data_path)\n",
    "os.remove(zip_path)\n",
    "print(os.listdir(data_path))"
   ]
  },
  {
   "cell_type": "code",
   "execution_count": null,
   "metadata": {},
   "outputs": [],
   "source": [
    "import pandas as pd\n",
    "\n",
    "\n",
    "try:\n",
    "    test_set = pd.read_json(f\"{data_path}test.json\", orient=\"records\")\n",
    "    print(\"Data loaded successfully: test.json\")\n",
    "    print(f\"Shape: {test_set.shape}\")\n",
    "except Exception as e:\n",
    "    print(f\"An error occurred: {e}\")"
   ]
  },
  {
   "cell_type": "markdown",
   "metadata": {},
   "source": [
    "### Test and plot classification report and confusion matrices"
   ]
  },
  {
   "cell_type": "code",
   "execution_count": null,
   "metadata": {},
   "outputs": [],
   "source": [
    "from tqdm import tqdm\n",
    "import pickle\n",
    "from sklearn.metrics import ConfusionMatrixDisplay, classification_report\n",
    "from matplotlib import pyplot as plt\n",
    "import time\n",
    "import datetime\n",
    "import numpy as np\n",
    "\n",
    "from Source_code.z_utils.predict import predict\n",
    "from Source_code.z_utils.data_preparing import get_dataloader\n",
    "from Source_code.z_utils.global_constants import *\n",
    "\n",
    "\n",
    "for model_key in models.keys():\n",
    "    model = models[model_key]\n",
    "    \n",
    "    print(\"=\" * 30)\n",
    "    print(f'Model {model.checkpoint}')\n",
    "    print(\"=\" * 30)\n",
    "    \n",
    "    model.to(device)\n",
    "    model.eval()\n",
    "    \n",
    "    time0 = time.monotonic_ns()\n",
    "    # cls report\n",
    "    dataloader = get_dataloader(test_set.title_abstract, test_set.labels, model.tokenizer, TEST_BATCH_SIZE, MAX_LEN)\n",
    "    test_preds, labels = predict(model, dataloader=dataloader, device=device)\n",
    "    time1 = time.monotonic_ns()\n",
    "    print(datetime.timedelta(microseconds=(time1 - time0)/1000))\n",
    "\n",
    "    preds_labels = [np.argmax(pred) for pred in np.concatenate(test_preds)]\n",
    "    report = classification_report(test_set[\"labels\"], preds_labels, target_names=LABELS_MAP.keys())\n",
    "    \n",
    "    test_set.title_abstract[test_set.labels != preds_labels].to_json(f\"test_false_predictions_{model.checkpoint[model.checkpoint.find('/')+1:]}\")\n",
    "    with open(f\"test_report_{model.checkpoint[model.checkpoint.find('/')+1:]}\", 'wb') as f:\n",
    "        pickle.dump(report, f)\n",
    "    \n",
    "    print(report)\n",
    "\n",
    "    # confusion matrix\n",
    "    labels = list(LABELS_MAP.keys())\n",
    "    test_classes = [labels[0] if label == 0 else labels[1] for label in test_set.labels]\n",
    "    preds_classes = [labels[0] if label == 0 else labels[1] for label in preds_labels]\n",
    "    disp = ConfusionMatrixDisplay.from_predictions(test_classes, preds_classes, labels=labels, normalize=None, cmap=plt.cm.Blues)\n",
    "    disp.ax_.set_title(\"Confusion matrix\")\n",
    "    plt.savefig(f\"confusion_matrix_{model.checkpoint[model.checkpoint.find('/')+1:]}.pdf\", format=\"pdf\", bbox_inches=\"tight\")\n",
    "    plt.show()\n",
    "    plt.close()"
   ]
  }
 ],
 "metadata": {
  "kernelspec": {
   "display_name": "Python 3 (ipykernel)",
   "language": "python",
   "name": "python3"
  },
  "language_info": {
   "codemirror_mode": {
    "name": "ipython",
    "version": 3
   },
   "file_extension": ".py",
   "mimetype": "text/x-python",
   "name": "python",
   "nbconvert_exporter": "python",
   "pygments_lexer": "ipython3",
   "version": "3.11.6"
  }
 },
 "nbformat": 4,
 "nbformat_minor": 4
}
