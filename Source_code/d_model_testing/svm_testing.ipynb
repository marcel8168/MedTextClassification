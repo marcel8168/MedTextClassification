{
 "cells": [
  {
   "cell_type": "markdown",
   "metadata": {},
   "source": [
    "# SVM testing"
   ]
  },
  {
   "cell_type": "markdown",
   "metadata": {},
   "source": [
    "### Load SVM, vectorizer and test set"
   ]
  },
  {
   "cell_type": "code",
   "execution_count": null,
   "metadata": {},
   "outputs": [],
   "source": [
    "import kaggle\n",
    "import os\n",
    "from sklearn.feature_extraction.text import TfidfVectorizer\n",
    "from sklearn.svm import LinearSVC\n",
    "import joblib\n",
    "\n",
    "\n",
    "kaggle.api.authenticate()\n",
    "data_path = \"./models/\"\n",
    "if not os.path.exists(data_path):\n",
    "    os.makedirs(data_path)\n",
    "    print(f\"Directory created: {data_path}\")\n",
    "\n",
    "slug = \"svm-linear-pubmed\"\n",
    "file_names = [\"svm.pkl\", \"vectorizer.pkl\"]\n",
    "kaggle.api.model_instance_version_download_cli(f\"marcelhiltner/{slug}/scikitlearn/{slug}/1\", data_path, untar=True)\n",
    "best_svm = joblib.load(f\"{data_path}{file_names[0]}\")\n",
    "print(\"svm loaded.\")\n",
    "vectorizer = joblib.load(f\"{data_path}{file_names[1]}\")\n",
    "print(\"vectorizer loaded.\")"
   ]
  },
  {
   "cell_type": "code",
   "execution_count": null,
   "metadata": {},
   "outputs": [],
   "source": [
    "import kaggle\n",
    "import os\n",
    "import zipfile\n",
    "\n",
    "\n",
    "kaggle.api.authenticate()\n",
    "data_path = \"./datasets/\"\n",
    "if not os.path.exists(data_path):\n",
    "    os.makedirs(data_path)\n",
    "    print(f\"Directory created: {data_path}\")\n",
    "    \n",
    "kaggle.api.dataset_download_file('marcelhiltner/pubmed-human-veterinary-medicine-classification', file_name=\"test.json\", path=data_path)\n",
    "zip_path = f\"{data_path}test.json.zip\"\n",
    "with zipfile.ZipFile(zip_path, \"r\") as z:\n",
    "    z.extractall(data_path)\n",
    "os.remove(zip_path)\n",
    "print(os.listdir(data_path))"
   ]
  },
  {
   "cell_type": "code",
   "execution_count": null,
   "metadata": {},
   "outputs": [],
   "source": [
    "import pandas as pd\n",
    "\n",
    "\n",
    "try:\n",
    "    test_set = pd.read_json(f\"{data_path}test.json\", orient=\"records\")\n",
    "    print(\"Data loaded successfully: test.json\")\n",
    "    print(f\"Shape: {test_set.shape}\")\n",
    "except Exception as e:\n",
    "    print(f\"An error occurred: {e}\")"
   ]
  },
  {
   "cell_type": "markdown",
   "metadata": {},
   "source": [
    "### Test and plot classification report and confusion matrix"
   ]
  },
  {
   "cell_type": "code",
   "execution_count": null,
   "metadata": {},
   "outputs": [],
   "source": [
    "!python -m spacy download en_core_web_sm"
   ]
  },
  {
   "cell_type": "code",
   "execution_count": null,
   "metadata": {},
   "outputs": [],
   "source": [
    "from sklearn.metrics import confusion_matrix, classification_report\n",
    "import pickle\n",
    "import time\n",
    "import datetime\n",
    "import spacy\n",
    "\n",
    "from Source_code.z_utils.data_preprocessing import preprocess_text\n",
    "from Source_code.z_utils.lemmatize import lemmatize\n",
    "from Source_code.z_utils.global_constants import *\n",
    "\n",
    "MODEL_CHECKPOINT = \"svm\"\n",
    "\n",
    "lemmatizer = spacy.load('en_core_web_sm')\n",
    "\n",
    "time0 = time.monotonic_ns()\n",
    "\n",
    "test_set[\"title_abstract\"] = test_set[\"title_abstract\"].apply(lambda x: preprocess_text(x, numbers=True))\n",
    "test_set[\"title_abstract\"] = test_set[\"title_abstract\"].apply(lambda x: lemmatize(lemmatizer, x))\n",
    "test_x = vectorizer.transform(test_set[\"title_abstract\"])\n",
    "test_y = test_set[\"labels\"]\n",
    "pred_y = best_svm.predict(test_x)\n",
    "\n",
    "elapsed_time = datetime.timedelta(microseconds=(time.monotonic_ns() - time0)/1000)\n",
    "print((time.monotonic_ns() - time0))\n",
    "print(elapsed_time)\n",
    "\n",
    "cm = confusion_matrix(test_y, pred_y)\n",
    "print(cm)\n",
    "\n",
    "cr = classification_report(test_y, pred_y)\n",
    "print(cr) \n",
    "\n",
    "with open(f\"{PATH_SAVED_METRICS}test_report_{MODEL_CHECKPOINT}\", 'wb') as f:\n",
    "    pickle.dump(cr, f)"
   ]
  },
  {
   "cell_type": "code",
   "execution_count": null,
   "metadata": {},
   "outputs": [],
   "source": [
    "from matplotlib import pyplot as plt\n",
    "from sklearn.metrics import ConfusionMatrixDisplay\n",
    "\n",
    "\n",
    "labels = list(LABELS_MAP.keys())\n",
    "test_classes = [labels[0] if label == 0 else labels[1] for label in test_y]\n",
    "preds_classes = [labels[0] if label == 0 else labels[1] for label in pred_y]\n",
    "test_set.title_abstract[test_set.labels != pred_y].to_json(f\"{PATH_SAVED_METRICS}test_false_predictions_svm.json\")\n",
    "disp = ConfusionMatrixDisplay.from_predictions(test_classes, preds_classes, labels=labels, normalize=None, cmap=plt.cm.Blues)\n",
    "plt.savefig(f\"Confusion_matrix_{MODEL_CHECKPOINT}.pdf\", format=\"pdf\", bbox_inches=\"tight\")\n",
    "disp.ax_.set_title(\"Confusion matrix\")\n",
    "plt.show()\n",
    "plt.close()"
   ]
  }
 ],
 "metadata": {
  "kernelspec": {
   "display_name": "venv",
   "language": "python",
   "name": "python3"
  },
  "language_info": {
   "codemirror_mode": {
    "name": "ipython",
    "version": 3
   },
   "file_extension": ".py",
   "mimetype": "text/x-python",
   "name": "python",
   "nbconvert_exporter": "python",
   "pygments_lexer": "ipython3",
   "version": "3.11.6"
  }
 },
 "nbformat": 4,
 "nbformat_minor": 4
}
