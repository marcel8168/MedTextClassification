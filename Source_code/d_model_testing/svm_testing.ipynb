{
 "cells": [
  {
   "cell_type": "code",
   "execution_count": 1,
   "metadata": {},
   "outputs": [
    {
     "name": "stdout",
     "output_type": "stream",
     "text": [
      "Downloading svm-linear-pubmed.tar.gz to ./models\n"
     ]
    },
    {
     "name": "stderr",
     "output_type": "stream",
     "text": [
      "100%|████████████████████████████████████████████████████████████████████████████████████████████████████████████████████████████████████████████████████████████████████████████████████████████████████████████████████████| 39.7M/39.7M [00:01<00:00, 22.3MB/s]\n"
     ]
    },
    {
     "name": "stdout",
     "output_type": "stream",
     "text": [
      "\n",
      "svm loaded.\n",
      "vectorizer loaded.\n"
     ]
    }
   ],
   "source": [
    "import kaggle\n",
    "import os\n",
    "from sklearn.feature_extraction.text import TfidfVectorizer\n",
    "from sklearn.svm import LinearSVC\n",
    "import joblib\n",
    "\n",
    "\n",
    "kaggle.api.authenticate()\n",
    "data_path = \"./models/\"\n",
    "if not os.path.exists(data_path):\n",
    "    os.makedirs(data_path)\n",
    "    print(f\"Directory created: {data_path}\")\n",
    "\n",
    "slug = \"svm-linear-pubmed\"\n",
    "file_names = [\"svm.pkl\", \"vectorizer.pkl\"]\n",
    "kaggle.api.model_instance_version_download_cli(f\"marcelhiltner/{slug}/scikitlearn/{slug}/1\", data_path, untar=True)\n",
    "best_svm = joblib.load(f\"{data_path}{file_names[0]}\")\n",
    "print(\"svm loaded.\")\n",
    "vectorizer = joblib.load(f\"{data_path}{file_names[1]}\")\n",
    "print(\"vectorizer loaded.\")"
   ]
  },
  {
   "cell_type": "code",
   "execution_count": 2,
   "metadata": {},
   "outputs": [
    {
     "name": "stdout",
     "output_type": "stream",
     "text": [
      "['test.json']\n"
     ]
    }
   ],
   "source": [
    "import kaggle\n",
    "import os\n",
    "import zipfile\n",
    "\n",
    "\n",
    "kaggle.api.authenticate()\n",
    "data_path = \"./datasets/\"\n",
    "if not os.path.exists(data_path):\n",
    "    os.makedirs(data_path)\n",
    "    print(f\"Directory created: {data_path}\")\n",
    "    \n",
    "kaggle.api.dataset_download_file('marcelhiltner/pubmed-human-veterinary-medicine-classification', file_name=\"test.json\", path=data_path)\n",
    "zip_path = f\"{data_path}test.json.zip\"\n",
    "with zipfile.ZipFile(zip_path, \"r\") as z:\n",
    "    z.extractall(data_path)\n",
    "os.remove(zip_path)\n",
    "print(os.listdir(data_path))"
   ]
  },
  {
   "cell_type": "code",
   "execution_count": null,
   "metadata": {},
   "outputs": [],
   "source": [
    "import pandas as pd\n",
    "\n",
    "\n",
    "try:\n",
    "    test_set = pd.read_json(f\"{data_path}test.json\", orient=\"records\")\n",
    "    print(\"Data loaded successfully: test.json\")\n",
    "    print(f\"Shape: {test_set.shape}\")\n",
    "except Exception as e:\n",
    "    print(f\"An error occurred: {e}\")"
   ]
  },
  {
   "cell_type": "code",
   "execution_count": 4,
   "metadata": {},
   "outputs": [
    {
     "name": "stdout",
     "output_type": "stream",
     "text": [
      "Collecting en-core-web-sm==3.7.1\n",
      "  Downloading https://github.com/explosion/spacy-models/releases/download/en_core_web_sm-3.7.1/en_core_web_sm-3.7.1-py3-none-any.whl (12.8 MB)\n",
      "     ---------------------------------------- 0.0/12.8 MB ? eta -:--:--\n",
      "     --------------------------------------- 0.0/12.8 MB 222.6 kB/s eta 0:00:58\n",
      "     --------------------------------------- 0.0/12.8 MB 393.8 kB/s eta 0:00:33\n",
      "      --------------------------------------- 0.2/12.8 MB 1.3 MB/s eta 0:00:10\n",
      "     - -------------------------------------- 0.6/12.8 MB 3.4 MB/s eta 0:00:04\n",
      "     --- ------------------------------------ 1.2/12.8 MB 5.8 MB/s eta 0:00:03\n",
      "     ----- ---------------------------------- 1.9/12.8 MB 7.5 MB/s eta 0:00:02\n",
      "     -------- ------------------------------- 2.7/12.8 MB 9.1 MB/s eta 0:00:02\n",
      "     ------------ --------------------------- 3.9/12.8 MB 10.8 MB/s eta 0:00:01\n",
      "     -------------- ------------------------- 4.8/12.8 MB 12.2 MB/s eta 0:00:01\n",
      "     ----------------- ---------------------- 5.7/12.8 MB 13.6 MB/s eta 0:00:01\n",
      "     -------------------- ------------------- 6.7/12.8 MB 14.3 MB/s eta 0:00:01\n",
      "     ----------------------- ---------------- 7.7/12.8 MB 14.9 MB/s eta 0:00:01\n",
      "     ----------------------------- ---------- 9.5/12.8 MB 15.9 MB/s eta 0:00:01\n",
      "     -------------------------------- ------ 10.8/12.8 MB 21.8 MB/s eta 0:00:01\n",
      "     ------------------------------------- - 12.2/12.8 MB 24.2 MB/s eta 0:00:01\n",
      "     --------------------------------------  12.8/12.8 MB 24.2 MB/s eta 0:00:01\n",
      "     --------------------------------------  12.8/12.8 MB 24.2 MB/s eta 0:00:01\n",
      "     --------------------------------------- 12.8/12.8 MB 19.2 MB/s eta 0:00:00\n",
      "Requirement already satisfied: spacy<3.8.0,>=3.7.2 in c:\\users\\albbl\\documents\\studium\\11_semester\\appendix_code\\.venv\\lib\\site-packages (from en-core-web-sm==3.7.1) (3.7.4)\n",
      "Requirement already satisfied: spacy-legacy<3.1.0,>=3.0.11 in c:\\users\\albbl\\documents\\studium\\11_semester\\appendix_code\\.venv\\lib\\site-packages (from spacy<3.8.0,>=3.7.2->en-core-web-sm==3.7.1) (3.0.12)\n",
      "Requirement already satisfied: spacy-loggers<2.0.0,>=1.0.0 in c:\\users\\albbl\\documents\\studium\\11_semester\\appendix_code\\.venv\\lib\\site-packages (from spacy<3.8.0,>=3.7.2->en-core-web-sm==3.7.1) (1.0.5)\n",
      "Requirement already satisfied: murmurhash<1.1.0,>=0.28.0 in c:\\users\\albbl\\documents\\studium\\11_semester\\appendix_code\\.venv\\lib\\site-packages (from spacy<3.8.0,>=3.7.2->en-core-web-sm==3.7.1) (1.0.10)\n",
      "Requirement already satisfied: cymem<2.1.0,>=2.0.2 in c:\\users\\albbl\\documents\\studium\\11_semester\\appendix_code\\.venv\\lib\\site-packages (from spacy<3.8.0,>=3.7.2->en-core-web-sm==3.7.1) (2.0.8)\n",
      "Requirement already satisfied: preshed<3.1.0,>=3.0.2 in c:\\users\\albbl\\documents\\studium\\11_semester\\appendix_code\\.venv\\lib\\site-packages (from spacy<3.8.0,>=3.7.2->en-core-web-sm==3.7.1) (3.0.9)\n",
      "Requirement already satisfied: thinc<8.3.0,>=8.2.2 in c:\\users\\albbl\\documents\\studium\\11_semester\\appendix_code\\.venv\\lib\\site-packages (from spacy<3.8.0,>=3.7.2->en-core-web-sm==3.7.1) (8.2.3)\n",
      "Requirement already satisfied: wasabi<1.2.0,>=0.9.1 in c:\\users\\albbl\\documents\\studium\\11_semester\\appendix_code\\.venv\\lib\\site-packages (from spacy<3.8.0,>=3.7.2->en-core-web-sm==3.7.1) (1.1.2)\n",
      "Requirement already satisfied: srsly<3.0.0,>=2.4.3 in c:\\users\\albbl\\documents\\studium\\11_semester\\appendix_code\\.venv\\lib\\site-packages (from spacy<3.8.0,>=3.7.2->en-core-web-sm==3.7.1) (2.4.8)\n",
      "Requirement already satisfied: catalogue<2.1.0,>=2.0.6 in c:\\users\\albbl\\documents\\studium\\11_semester\\appendix_code\\.venv\\lib\\site-packages (from spacy<3.8.0,>=3.7.2->en-core-web-sm==3.7.1) (2.0.10)\n",
      "Requirement already satisfied: weasel<0.4.0,>=0.1.0 in c:\\users\\albbl\\documents\\studium\\11_semester\\appendix_code\\.venv\\lib\\site-packages (from spacy<3.8.0,>=3.7.2->en-core-web-sm==3.7.1) (0.3.4)\n",
      "Requirement already satisfied: typer<0.10.0,>=0.3.0 in c:\\users\\albbl\\documents\\studium\\11_semester\\appendix_code\\.venv\\lib\\site-packages (from spacy<3.8.0,>=3.7.2->en-core-web-sm==3.7.1) (0.9.0)\n",
      "Requirement already satisfied: smart-open<7.0.0,>=5.2.1 in c:\\users\\albbl\\documents\\studium\\11_semester\\appendix_code\\.venv\\lib\\site-packages (from spacy<3.8.0,>=3.7.2->en-core-web-sm==3.7.1) (6.4.0)\n",
      "Requirement already satisfied: tqdm<5.0.0,>=4.38.0 in c:\\users\\albbl\\documents\\studium\\11_semester\\appendix_code\\.venv\\lib\\site-packages (from spacy<3.8.0,>=3.7.2->en-core-web-sm==3.7.1) (4.66.2)\n",
      "Requirement already satisfied: requests<3.0.0,>=2.13.0 in c:\\users\\albbl\\documents\\studium\\11_semester\\appendix_code\\.venv\\lib\\site-packages (from spacy<3.8.0,>=3.7.2->en-core-web-sm==3.7.1) (2.31.0)\n",
      "Requirement already satisfied: pydantic!=1.8,!=1.8.1,<3.0.0,>=1.7.4 in c:\\users\\albbl\\documents\\studium\\11_semester\\appendix_code\\.venv\\lib\\site-packages (from spacy<3.8.0,>=3.7.2->en-core-web-sm==3.7.1) (2.6.4)\n",
      "Requirement already satisfied: jinja2 in c:\\users\\albbl\\documents\\studium\\11_semester\\appendix_code\\.venv\\lib\\site-packages (from spacy<3.8.0,>=3.7.2->en-core-web-sm==3.7.1) (3.1.3)\n",
      "Requirement already satisfied: setuptools in c:\\users\\albbl\\documents\\studium\\11_semester\\appendix_code\\.venv\\lib\\site-packages (from spacy<3.8.0,>=3.7.2->en-core-web-sm==3.7.1) (69.2.0)\n",
      "Requirement already satisfied: packaging>=20.0 in c:\\users\\albbl\\documents\\studium\\11_semester\\appendix_code\\.venv\\lib\\site-packages (from spacy<3.8.0,>=3.7.2->en-core-web-sm==3.7.1) (24.0)\n",
      "Requirement already satisfied: langcodes<4.0.0,>=3.2.0 in c:\\users\\albbl\\documents\\studium\\11_semester\\appendix_code\\.venv\\lib\\site-packages (from spacy<3.8.0,>=3.7.2->en-core-web-sm==3.7.1) (3.3.0)\n",
      "Requirement already satisfied: numpy>=1.19.0 in c:\\users\\albbl\\documents\\studium\\11_semester\\appendix_code\\.venv\\lib\\site-packages (from spacy<3.8.0,>=3.7.2->en-core-web-sm==3.7.1) (1.26.4)\n",
      "Requirement already satisfied: annotated-types>=0.4.0 in c:\\users\\albbl\\documents\\studium\\11_semester\\appendix_code\\.venv\\lib\\site-packages (from pydantic!=1.8,!=1.8.1,<3.0.0,>=1.7.4->spacy<3.8.0,>=3.7.2->en-core-web-sm==3.7.1) (0.6.0)\n",
      "Requirement already satisfied: pydantic-core==2.16.3 in c:\\users\\albbl\\documents\\studium\\11_semester\\appendix_code\\.venv\\lib\\site-packages (from pydantic!=1.8,!=1.8.1,<3.0.0,>=1.7.4->spacy<3.8.0,>=3.7.2->en-core-web-sm==3.7.1) (2.16.3)\n",
      "Requirement already satisfied: typing-extensions>=4.6.1 in c:\\users\\albbl\\documents\\studium\\11_semester\\appendix_code\\.venv\\lib\\site-packages (from pydantic!=1.8,!=1.8.1,<3.0.0,>=1.7.4->spacy<3.8.0,>=3.7.2->en-core-web-sm==3.7.1) (4.10.0)\n",
      "Requirement already satisfied: charset-normalizer<4,>=2 in c:\\users\\albbl\\documents\\studium\\11_semester\\appendix_code\\.venv\\lib\\site-packages (from requests<3.0.0,>=2.13.0->spacy<3.8.0,>=3.7.2->en-core-web-sm==3.7.1) (3.3.2)\n",
      "Requirement already satisfied: idna<4,>=2.5 in c:\\users\\albbl\\documents\\studium\\11_semester\\appendix_code\\.venv\\lib\\site-packages (from requests<3.0.0,>=2.13.0->spacy<3.8.0,>=3.7.2->en-core-web-sm==3.7.1) (3.6)\n",
      "Requirement already satisfied: urllib3<3,>=1.21.1 in c:\\users\\albbl\\documents\\studium\\11_semester\\appendix_code\\.venv\\lib\\site-packages (from requests<3.0.0,>=2.13.0->spacy<3.8.0,>=3.7.2->en-core-web-sm==3.7.1) (2.2.1)\n",
      "Requirement already satisfied: certifi>=2017.4.17 in c:\\users\\albbl\\documents\\studium\\11_semester\\appendix_code\\.venv\\lib\\site-packages (from requests<3.0.0,>=2.13.0->spacy<3.8.0,>=3.7.2->en-core-web-sm==3.7.1) (2024.2.2)\n",
      "Requirement already satisfied: blis<0.8.0,>=0.7.8 in c:\\users\\albbl\\documents\\studium\\11_semester\\appendix_code\\.venv\\lib\\site-packages (from thinc<8.3.0,>=8.2.2->spacy<3.8.0,>=3.7.2->en-core-web-sm==3.7.1) (0.7.11)\n",
      "Requirement already satisfied: confection<1.0.0,>=0.0.1 in c:\\users\\albbl\\documents\\studium\\11_semester\\appendix_code\\.venv\\lib\\site-packages (from thinc<8.3.0,>=8.2.2->spacy<3.8.0,>=3.7.2->en-core-web-sm==3.7.1) (0.1.4)\n",
      "Requirement already satisfied: colorama in c:\\users\\albbl\\documents\\studium\\11_semester\\appendix_code\\.venv\\lib\\site-packages (from tqdm<5.0.0,>=4.38.0->spacy<3.8.0,>=3.7.2->en-core-web-sm==3.7.1) (0.4.6)\n",
      "Requirement already satisfied: click<9.0.0,>=7.1.1 in c:\\users\\albbl\\documents\\studium\\11_semester\\appendix_code\\.venv\\lib\\site-packages (from typer<0.10.0,>=0.3.0->spacy<3.8.0,>=3.7.2->en-core-web-sm==3.7.1) (8.1.7)\n",
      "Requirement already satisfied: cloudpathlib<0.17.0,>=0.7.0 in c:\\users\\albbl\\documents\\studium\\11_semester\\appendix_code\\.venv\\lib\\site-packages (from weasel<0.4.0,>=0.1.0->spacy<3.8.0,>=3.7.2->en-core-web-sm==3.7.1) (0.16.0)\n",
      "Requirement already satisfied: MarkupSafe>=2.0 in c:\\users\\albbl\\documents\\studium\\11_semester\\appendix_code\\.venv\\lib\\site-packages (from jinja2->spacy<3.8.0,>=3.7.2->en-core-web-sm==3.7.1) (2.1.5)\n",
      "\u001b[38;5;2m[+] Download and installation successful\u001b[0m\n",
      "You can now load the package via spacy.load('en_core_web_sm')\n"
     ]
    }
   ],
   "source": [
    "!python -m spacy download en_core_web_sm"
   ]
  },
  {
   "cell_type": "code",
   "execution_count": null,
   "metadata": {},
   "outputs": [],
   "source": [
    "from sklearn.metrics import confusion_matrix, classification_report\n",
    "import pickle\n",
    "import time\n",
    "import datetime\n",
    "import spacy\n",
    "\n",
    "from Source_code.z_utils.data_preprocessing import preprocess_text\n",
    "from Source_code.z_utils.lemmatize import lemmatize\n",
    "from Source_code.z_utils.global_constants import *\n",
    "\n",
    "MODEL_CHECKPOINT = \"svm\"\n",
    "\n",
    "lemmatizer = spacy.load('en_core_web_sm')\n",
    "\n",
    "time0 = time.monotonic_ns()\n",
    "\n",
    "test_set[\"title_abstract\"] = test_set[\"title_abstract\"].apply(lambda x: preprocess_text(x, numbers=True))\n",
    "test_set[\"title_abstract\"] = test_set[\"title_abstract\"].apply(lambda x: lemmatize(lemmatizer, x))\n",
    "test_x = vectorizer.transform(test_set[\"title_abstract\"])\n",
    "test_y = test_set[\"labels\"]\n",
    "pred_y = best_svm.predict(test_x)\n",
    "\n",
    "elapsed_time = datetime.timedelta(microseconds=(time.monotonic_ns() - time0)/1000)\n",
    "print((time.monotonic_ns() - time0))\n",
    "print(elapsed_time)\n",
    "\n",
    "cm = confusion_matrix(test_y, pred_y)\n",
    "print(cm)\n",
    "\n",
    "cr = classification_report(test_y, pred_y)\n",
    "print(cr) \n",
    "\n",
    "with open(f\"{PATH_SAVED_METRICS}test_report_{MODEL_CHECKPOINT}\", 'wb') as f:\n",
    "    pickle.dump(cr, f)"
   ]
  },
  {
   "cell_type": "code",
   "execution_count": null,
   "metadata": {},
   "outputs": [],
   "source": [
    "from matplotlib import pyplot as plt\n",
    "from sklearn.metrics import ConfusionMatrixDisplay\n",
    "\n",
    "\n",
    "labels = list(LABELS_MAP.keys())\n",
    "test_classes = [labels[0] if label == 0 else labels[1] for label in test_y]\n",
    "preds_classes = [labels[0] if label == 0 else labels[1] for label in pred_y]\n",
    "test_set.title_abstract[test_set.labels != pred_y].to_json(f\"{PATH_SAVED_METRICS}test_false_predictions_svm.json\")\n",
    "disp = ConfusionMatrixDisplay.from_predictions(test_classes, preds_classes, labels=labels, normalize=None, cmap=plt.cm.Blues)\n",
    "plt.savefig(f\"Confusion_matrix_{MODEL_CHECKPOINT}.pdf\", format=\"pdf\", bbox_inches=\"tight\")\n",
    "disp.ax_.set_title(\"Confusion matrix (normalized)\")\n",
    "plt.show()\n",
    "plt.close()"
   ]
  }
 ],
 "metadata": {
  "kernelspec": {
   "display_name": ".venv",
   "language": "python",
   "name": ".venv"
  },
  "language_info": {
   "codemirror_mode": {
    "name": "ipython",
    "version": 3
   },
   "file_extension": ".py",
   "mimetype": "text/x-python",
   "name": "python",
   "nbconvert_exporter": "python",
   "pygments_lexer": "ipython3",
   "version": "3.11.6"
  }
 },
 "nbformat": 4,
 "nbformat_minor": 4
}
